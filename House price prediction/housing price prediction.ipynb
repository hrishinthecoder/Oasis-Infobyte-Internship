{
 "cells": [
  {
   "cell_type": "markdown",
   "id": "13922af9",
   "metadata": {
    "papermill": {
     "duration": 0.019008,
     "end_time": "2024-01-01T14:21:00.138653",
     "exception": false,
     "start_time": "2024-01-01T14:21:00.119645",
     "status": "completed"
    },
    "tags": []
   },
   "source": [
    "# **Predicting House Prices: Exploratory Data Analysis and Linear Regression Modeling**"
   ]
  },
  {
   "cell_type": "markdown",
   "id": "5101e7fb",
   "metadata": {
    "papermill": {
     "duration": 0.020125,
     "end_time": "2024-01-01T14:21:00.177577",
     "exception": false,
     "start_time": "2024-01-01T14:21:00.157452",
     "status": "completed"
    },
    "tags": []
   },
   "source": [
    "# **Importing the required libraries**"
   ]
  },
  {
   "cell_type": "code",
   "execution_count": 1,
   "id": "03416fc4",
   "metadata": {
    "execution": {
     "iopub.execute_input": "2024-01-01T14:21:00.218056Z",
     "iopub.status.busy": "2024-01-01T14:21:00.217615Z",
     "iopub.status.idle": "2024-01-01T14:21:01.740269Z",
     "shell.execute_reply": "2024-01-01T14:21:01.738973Z"
    },
    "papermill": {
     "duration": 1.546518,
     "end_time": "2024-01-01T14:21:01.743303",
     "exception": false,
     "start_time": "2024-01-01T14:21:00.196785",
     "status": "completed"
    },
    "tags": []
   },
   "outputs": [
    {
     "name": "stderr",
     "output_type": "stream",
     "text": [
      "/opt/conda/lib/python3.10/site-packages/scipy/__init__.py:146: UserWarning: A NumPy version >=1.16.5 and <1.23.0 is required for this version of SciPy (detected version 1.23.5\n",
      "  warnings.warn(f\"A NumPy version >={np_minversion} and <{np_maxversion}\"\n"
     ]
    }
   ],
   "source": [
    "import numpy as np  \n",
    "import pandas as pd  \n",
    "import matplotlib.pyplot as plt  \n",
    "from sklearn.model_selection import train_test_split \n",
    "from sklearn.preprocessing import MinMaxScaler \n",
    "from sklearn.linear_model import LinearRegression  \n",
    "from sklearn.metrics import r2_score  "
   ]
  },
  {
   "cell_type": "markdown",
   "id": "23309391",
   "metadata": {
    "papermill": {
     "duration": 0.019162,
     "end_time": "2024-01-01T14:21:01.781400",
     "exception": false,
     "start_time": "2024-01-01T14:21:01.762238",
     "status": "completed"
    },
    "tags": []
   },
   "source": [
    "# **Importing our dataset**"
   ]
  },
  {
   "cell_type": "code",
   "execution_count": 2,
   "id": "577db4eb",
   "metadata": {
    "execution": {
     "iopub.execute_input": "2024-01-01T14:21:01.821433Z",
     "iopub.status.busy": "2024-01-01T14:21:01.820984Z",
     "iopub.status.idle": "2024-01-01T14:21:01.869459Z",
     "shell.execute_reply": "2024-01-01T14:21:01.868216Z"
    },
    "papermill": {
     "duration": 0.072148,
     "end_time": "2024-01-01T14:21:01.872310",
     "exception": false,
     "start_time": "2024-01-01T14:21:01.800162",
     "status": "completed"
    },
    "tags": []
   },
   "outputs": [
    {
     "data": {
      "text/html": [
       "<div>\n",
       "<style scoped>\n",
       "    .dataframe tbody tr th:only-of-type {\n",
       "        vertical-align: middle;\n",
       "    }\n",
       "\n",
       "    .dataframe tbody tr th {\n",
       "        vertical-align: top;\n",
       "    }\n",
       "\n",
       "    .dataframe thead th {\n",
       "        text-align: right;\n",
       "    }\n",
       "</style>\n",
       "<table border=\"1\" class=\"dataframe\">\n",
       "  <thead>\n",
       "    <tr style=\"text-align: right;\">\n",
       "      <th></th>\n",
       "      <th>price</th>\n",
       "      <th>area</th>\n",
       "      <th>bedrooms</th>\n",
       "      <th>bathrooms</th>\n",
       "      <th>stories</th>\n",
       "      <th>mainroad</th>\n",
       "      <th>guestroom</th>\n",
       "      <th>basement</th>\n",
       "      <th>hotwaterheating</th>\n",
       "      <th>airconditioning</th>\n",
       "      <th>parking</th>\n",
       "      <th>prefarea</th>\n",
       "      <th>furnishingstatus</th>\n",
       "    </tr>\n",
       "  </thead>\n",
       "  <tbody>\n",
       "    <tr>\n",
       "      <th>0</th>\n",
       "      <td>13300000</td>\n",
       "      <td>7420</td>\n",
       "      <td>4</td>\n",
       "      <td>2</td>\n",
       "      <td>3</td>\n",
       "      <td>yes</td>\n",
       "      <td>no</td>\n",
       "      <td>no</td>\n",
       "      <td>no</td>\n",
       "      <td>yes</td>\n",
       "      <td>2</td>\n",
       "      <td>yes</td>\n",
       "      <td>furnished</td>\n",
       "    </tr>\n",
       "    <tr>\n",
       "      <th>1</th>\n",
       "      <td>12250000</td>\n",
       "      <td>8960</td>\n",
       "      <td>4</td>\n",
       "      <td>4</td>\n",
       "      <td>4</td>\n",
       "      <td>yes</td>\n",
       "      <td>no</td>\n",
       "      <td>no</td>\n",
       "      <td>no</td>\n",
       "      <td>yes</td>\n",
       "      <td>3</td>\n",
       "      <td>no</td>\n",
       "      <td>furnished</td>\n",
       "    </tr>\n",
       "    <tr>\n",
       "      <th>2</th>\n",
       "      <td>12250000</td>\n",
       "      <td>9960</td>\n",
       "      <td>3</td>\n",
       "      <td>2</td>\n",
       "      <td>2</td>\n",
       "      <td>yes</td>\n",
       "      <td>no</td>\n",
       "      <td>yes</td>\n",
       "      <td>no</td>\n",
       "      <td>no</td>\n",
       "      <td>2</td>\n",
       "      <td>yes</td>\n",
       "      <td>semi-furnished</td>\n",
       "    </tr>\n",
       "    <tr>\n",
       "      <th>3</th>\n",
       "      <td>12215000</td>\n",
       "      <td>7500</td>\n",
       "      <td>4</td>\n",
       "      <td>2</td>\n",
       "      <td>2</td>\n",
       "      <td>yes</td>\n",
       "      <td>no</td>\n",
       "      <td>yes</td>\n",
       "      <td>no</td>\n",
       "      <td>yes</td>\n",
       "      <td>3</td>\n",
       "      <td>yes</td>\n",
       "      <td>furnished</td>\n",
       "    </tr>\n",
       "    <tr>\n",
       "      <th>4</th>\n",
       "      <td>11410000</td>\n",
       "      <td>7420</td>\n",
       "      <td>4</td>\n",
       "      <td>1</td>\n",
       "      <td>2</td>\n",
       "      <td>yes</td>\n",
       "      <td>yes</td>\n",
       "      <td>yes</td>\n",
       "      <td>no</td>\n",
       "      <td>yes</td>\n",
       "      <td>2</td>\n",
       "      <td>no</td>\n",
       "      <td>furnished</td>\n",
       "    </tr>\n",
       "  </tbody>\n",
       "</table>\n",
       "</div>"
      ],
      "text/plain": [
       "      price  area  bedrooms  bathrooms  stories mainroad guestroom basement  \\\n",
       "0  13300000  7420         4          2        3      yes        no       no   \n",
       "1  12250000  8960         4          4        4      yes        no       no   \n",
       "2  12250000  9960         3          2        2      yes        no      yes   \n",
       "3  12215000  7500         4          2        2      yes        no      yes   \n",
       "4  11410000  7420         4          1        2      yes       yes      yes   \n",
       "\n",
       "  hotwaterheating airconditioning  parking prefarea furnishingstatus  \n",
       "0              no             yes        2      yes        furnished  \n",
       "1              no             yes        3       no        furnished  \n",
       "2              no              no        2      yes   semi-furnished  \n",
       "3              no             yes        3      yes        furnished  \n",
       "4              no             yes        2       no        furnished  "
      ]
     },
     "execution_count": 2,
     "metadata": {},
     "output_type": "execute_result"
    }
   ],
   "source": [
    "data = pd.read_csv('/kaggle/input/housing-dataset/Housing.csv')  \n",
    "data.head()    "
   ]
  },
  {
   "cell_type": "code",
   "execution_count": 3,
   "id": "050bb341",
   "metadata": {
    "execution": {
     "iopub.execute_input": "2024-01-01T14:21:01.913728Z",
     "iopub.status.busy": "2024-01-01T14:21:01.913261Z",
     "iopub.status.idle": "2024-01-01T14:21:01.931626Z",
     "shell.execute_reply": "2024-01-01T14:21:01.930403Z"
    },
    "papermill": {
     "duration": 0.042184,
     "end_time": "2024-01-01T14:21:01.934393",
     "exception": false,
     "start_time": "2024-01-01T14:21:01.892209",
     "status": "completed"
    },
    "tags": []
   },
   "outputs": [
    {
     "data": {
      "text/html": [
       "<div>\n",
       "<style scoped>\n",
       "    .dataframe tbody tr th:only-of-type {\n",
       "        vertical-align: middle;\n",
       "    }\n",
       "\n",
       "    .dataframe tbody tr th {\n",
       "        vertical-align: top;\n",
       "    }\n",
       "\n",
       "    .dataframe thead th {\n",
       "        text-align: right;\n",
       "    }\n",
       "</style>\n",
       "<table border=\"1\" class=\"dataframe\">\n",
       "  <thead>\n",
       "    <tr style=\"text-align: right;\">\n",
       "      <th></th>\n",
       "      <th>price</th>\n",
       "      <th>area</th>\n",
       "      <th>bedrooms</th>\n",
       "      <th>bathrooms</th>\n",
       "      <th>stories</th>\n",
       "      <th>mainroad</th>\n",
       "      <th>guestroom</th>\n",
       "      <th>basement</th>\n",
       "      <th>hotwaterheating</th>\n",
       "      <th>airconditioning</th>\n",
       "      <th>parking</th>\n",
       "      <th>prefarea</th>\n",
       "      <th>furnishingstatus</th>\n",
       "    </tr>\n",
       "  </thead>\n",
       "  <tbody>\n",
       "    <tr>\n",
       "      <th>540</th>\n",
       "      <td>1820000</td>\n",
       "      <td>3000</td>\n",
       "      <td>2</td>\n",
       "      <td>1</td>\n",
       "      <td>1</td>\n",
       "      <td>yes</td>\n",
       "      <td>no</td>\n",
       "      <td>yes</td>\n",
       "      <td>no</td>\n",
       "      <td>no</td>\n",
       "      <td>2</td>\n",
       "      <td>no</td>\n",
       "      <td>unfurnished</td>\n",
       "    </tr>\n",
       "    <tr>\n",
       "      <th>541</th>\n",
       "      <td>1767150</td>\n",
       "      <td>2400</td>\n",
       "      <td>3</td>\n",
       "      <td>1</td>\n",
       "      <td>1</td>\n",
       "      <td>no</td>\n",
       "      <td>no</td>\n",
       "      <td>no</td>\n",
       "      <td>no</td>\n",
       "      <td>no</td>\n",
       "      <td>0</td>\n",
       "      <td>no</td>\n",
       "      <td>semi-furnished</td>\n",
       "    </tr>\n",
       "    <tr>\n",
       "      <th>542</th>\n",
       "      <td>1750000</td>\n",
       "      <td>3620</td>\n",
       "      <td>2</td>\n",
       "      <td>1</td>\n",
       "      <td>1</td>\n",
       "      <td>yes</td>\n",
       "      <td>no</td>\n",
       "      <td>no</td>\n",
       "      <td>no</td>\n",
       "      <td>no</td>\n",
       "      <td>0</td>\n",
       "      <td>no</td>\n",
       "      <td>unfurnished</td>\n",
       "    </tr>\n",
       "    <tr>\n",
       "      <th>543</th>\n",
       "      <td>1750000</td>\n",
       "      <td>2910</td>\n",
       "      <td>3</td>\n",
       "      <td>1</td>\n",
       "      <td>1</td>\n",
       "      <td>no</td>\n",
       "      <td>no</td>\n",
       "      <td>no</td>\n",
       "      <td>no</td>\n",
       "      <td>no</td>\n",
       "      <td>0</td>\n",
       "      <td>no</td>\n",
       "      <td>furnished</td>\n",
       "    </tr>\n",
       "    <tr>\n",
       "      <th>544</th>\n",
       "      <td>1750000</td>\n",
       "      <td>3850</td>\n",
       "      <td>3</td>\n",
       "      <td>1</td>\n",
       "      <td>2</td>\n",
       "      <td>yes</td>\n",
       "      <td>no</td>\n",
       "      <td>no</td>\n",
       "      <td>no</td>\n",
       "      <td>no</td>\n",
       "      <td>0</td>\n",
       "      <td>no</td>\n",
       "      <td>unfurnished</td>\n",
       "    </tr>\n",
       "  </tbody>\n",
       "</table>\n",
       "</div>"
      ],
      "text/plain": [
       "       price  area  bedrooms  bathrooms  stories mainroad guestroom basement  \\\n",
       "540  1820000  3000         2          1        1      yes        no      yes   \n",
       "541  1767150  2400         3          1        1       no        no       no   \n",
       "542  1750000  3620         2          1        1      yes        no       no   \n",
       "543  1750000  2910         3          1        1       no        no       no   \n",
       "544  1750000  3850         3          1        2      yes        no       no   \n",
       "\n",
       "    hotwaterheating airconditioning  parking prefarea furnishingstatus  \n",
       "540              no              no        2       no      unfurnished  \n",
       "541              no              no        0       no   semi-furnished  \n",
       "542              no              no        0       no      unfurnished  \n",
       "543              no              no        0       no        furnished  \n",
       "544              no              no        0       no      unfurnished  "
      ]
     },
     "execution_count": 3,
     "metadata": {},
     "output_type": "execute_result"
    }
   ],
   "source": [
    "\n",
    "data.tail(5)"
   ]
  },
  {
   "cell_type": "markdown",
   "id": "09eefafe",
   "metadata": {
    "papermill": {
     "duration": 0.019345,
     "end_time": "2024-01-01T14:21:01.974708",
     "exception": false,
     "start_time": "2024-01-01T14:21:01.955363",
     "status": "completed"
    },
    "tags": []
   },
   "source": [
    "# **Understanding our data**"
   ]
  },
  {
   "cell_type": "code",
   "execution_count": 4,
   "id": "0b399ec6",
   "metadata": {
    "execution": {
     "iopub.execute_input": "2024-01-01T14:21:02.017154Z",
     "iopub.status.busy": "2024-01-01T14:21:02.016735Z",
     "iopub.status.idle": "2024-01-01T14:21:02.022232Z",
     "shell.execute_reply": "2024-01-01T14:21:02.021074Z"
    },
    "papermill": {
     "duration": 0.031055,
     "end_time": "2024-01-01T14:21:02.025228",
     "exception": false,
     "start_time": "2024-01-01T14:21:01.994173",
     "status": "completed"
    },
    "tags": []
   },
   "outputs": [
    {
     "name": "stdout",
     "output_type": "stream",
     "text": [
      "Rows and Columns of the dataset :-  (545, 13)\n"
     ]
    }
   ],
   "source": [
    "\n",
    "print(\"Rows and Columns of the dataset :- \",data.shape)"
   ]
  },
  {
   "cell_type": "code",
   "execution_count": 5,
   "id": "5239e464",
   "metadata": {
    "execution": {
     "iopub.execute_input": "2024-01-01T14:21:02.065981Z",
     "iopub.status.busy": "2024-01-01T14:21:02.065567Z",
     "iopub.status.idle": "2024-01-01T14:21:02.095860Z",
     "shell.execute_reply": "2024-01-01T14:21:02.094465Z"
    },
    "papermill": {
     "duration": 0.053765,
     "end_time": "2024-01-01T14:21:02.098403",
     "exception": false,
     "start_time": "2024-01-01T14:21:02.044638",
     "status": "completed"
    },
    "tags": []
   },
   "outputs": [
    {
     "name": "stdout",
     "output_type": "stream",
     "text": [
      "<class 'pandas.core.frame.DataFrame'>\n",
      "RangeIndex: 545 entries, 0 to 544\n",
      "Data columns (total 13 columns):\n",
      " #   Column            Non-Null Count  Dtype \n",
      "---  ------            --------------  ----- \n",
      " 0   price             545 non-null    int64 \n",
      " 1   area              545 non-null    int64 \n",
      " 2   bedrooms          545 non-null    int64 \n",
      " 3   bathrooms         545 non-null    int64 \n",
      " 4   stories           545 non-null    int64 \n",
      " 5   mainroad          545 non-null    object\n",
      " 6   guestroom         545 non-null    object\n",
      " 7   basement          545 non-null    object\n",
      " 8   hotwaterheating   545 non-null    object\n",
      " 9   airconditioning   545 non-null    object\n",
      " 10  parking           545 non-null    int64 \n",
      " 11  prefarea          545 non-null    object\n",
      " 12  furnishingstatus  545 non-null    object\n",
      "dtypes: int64(6), object(7)\n",
      "memory usage: 55.5+ KB\n"
     ]
    }
   ],
   "source": [
    "\n",
    "data.info()"
   ]
  },
  {
   "cell_type": "code",
   "execution_count": 6,
   "id": "7dda0796",
   "metadata": {
    "execution": {
     "iopub.execute_input": "2024-01-01T14:21:02.139977Z",
     "iopub.status.busy": "2024-01-01T14:21:02.139537Z",
     "iopub.status.idle": "2024-01-01T14:21:02.147085Z",
     "shell.execute_reply": "2024-01-01T14:21:02.145949Z"
    },
    "papermill": {
     "duration": 0.031092,
     "end_time": "2024-01-01T14:21:02.149564",
     "exception": false,
     "start_time": "2024-01-01T14:21:02.118472",
     "status": "completed"
    },
    "tags": []
   },
   "outputs": [
    {
     "data": {
      "text/plain": [
       "Index(['price', 'area', 'bedrooms', 'bathrooms', 'stories', 'mainroad',\n",
       "       'guestroom', 'basement', 'hotwaterheating', 'airconditioning',\n",
       "       'parking', 'prefarea', 'furnishingstatus'],\n",
       "      dtype='object')"
      ]
     },
     "execution_count": 6,
     "metadata": {},
     "output_type": "execute_result"
    }
   ],
   "source": [
    "data.columns"
   ]
  },
  {
   "cell_type": "markdown",
   "id": "00a1f8d6",
   "metadata": {
    "papermill": {
     "duration": 0.019743,
     "end_time": "2024-01-01T14:21:02.189204",
     "exception": false,
     "start_time": "2024-01-01T14:21:02.169461",
     "status": "completed"
    },
    "tags": []
   },
   "source": [
    "#### **Columns or Features Description**\n",
    "\n",
    "- 'price': The price of the house (target variable).\n",
    "- 'area': The area or size of the house in square feet.\n",
    "- 'bedrooms': The number of bedrooms in the house.\n",
    "- 'bathrooms': The number of bathrooms in the house.\n",
    "- 'stories': The number of stories or floors in the house.\n",
    "- 'mainroad': Categorical variable indicating whether the house is located near the main road or not.\n",
    "- 'guestroom': Categorical variable indicating whether the house has a guest room or not.\n",
    "- 'basement': Categorical variable indicating whether the house has a basement or not.\n",
    "- 'hotwaterheating': Categorical variable indicating whether the house has hot water heating or not.\n",
    "- 'airconditioning': Categorical variable indicating whether the house has air conditioning or not.\n",
    "- 'parking': The number of parking spaces available with the house.\n",
    "- 'prefarea': Categorical variable indicating whether the house is in a preferred area or not.\n",
    "- 'furnishingstatus': The furnishing status of the house (e.g., unfurnished, semi-furnished, fully furnished)."
   ]
  },
  {
   "cell_type": "code",
   "execution_count": 7,
   "id": "7407e165",
   "metadata": {
    "execution": {
     "iopub.execute_input": "2024-01-01T14:21:02.231628Z",
     "iopub.status.busy": "2024-01-01T14:21:02.231040Z",
     "iopub.status.idle": "2024-01-01T14:21:02.290308Z",
     "shell.execute_reply": "2024-01-01T14:21:02.289154Z"
    },
    "papermill": {
     "duration": 0.084183,
     "end_time": "2024-01-01T14:21:02.293052",
     "exception": false,
     "start_time": "2024-01-01T14:21:02.208869",
     "status": "completed"
    },
    "tags": []
   },
   "outputs": [
    {
     "data": {
      "text/html": [
       "<div>\n",
       "<style scoped>\n",
       "    .dataframe tbody tr th:only-of-type {\n",
       "        vertical-align: middle;\n",
       "    }\n",
       "\n",
       "    .dataframe tbody tr th {\n",
       "        vertical-align: top;\n",
       "    }\n",
       "\n",
       "    .dataframe thead th {\n",
       "        text-align: right;\n",
       "    }\n",
       "</style>\n",
       "<table border=\"1\" class=\"dataframe\">\n",
       "  <thead>\n",
       "    <tr style=\"text-align: right;\">\n",
       "      <th></th>\n",
       "      <th>price</th>\n",
       "      <th>area</th>\n",
       "      <th>bedrooms</th>\n",
       "      <th>bathrooms</th>\n",
       "      <th>stories</th>\n",
       "      <th>mainroad</th>\n",
       "      <th>guestroom</th>\n",
       "      <th>basement</th>\n",
       "      <th>hotwaterheating</th>\n",
       "      <th>airconditioning</th>\n",
       "      <th>parking</th>\n",
       "      <th>prefarea</th>\n",
       "      <th>furnishingstatus</th>\n",
       "    </tr>\n",
       "  </thead>\n",
       "  <tbody>\n",
       "    <tr>\n",
       "      <th>count</th>\n",
       "      <td>5.450000e+02</td>\n",
       "      <td>545.000000</td>\n",
       "      <td>545.000000</td>\n",
       "      <td>545.000000</td>\n",
       "      <td>545.000000</td>\n",
       "      <td>545</td>\n",
       "      <td>545</td>\n",
       "      <td>545</td>\n",
       "      <td>545</td>\n",
       "      <td>545</td>\n",
       "      <td>545.000000</td>\n",
       "      <td>545</td>\n",
       "      <td>545</td>\n",
       "    </tr>\n",
       "    <tr>\n",
       "      <th>unique</th>\n",
       "      <td>NaN</td>\n",
       "      <td>NaN</td>\n",
       "      <td>NaN</td>\n",
       "      <td>NaN</td>\n",
       "      <td>NaN</td>\n",
       "      <td>2</td>\n",
       "      <td>2</td>\n",
       "      <td>2</td>\n",
       "      <td>2</td>\n",
       "      <td>2</td>\n",
       "      <td>NaN</td>\n",
       "      <td>2</td>\n",
       "      <td>3</td>\n",
       "    </tr>\n",
       "    <tr>\n",
       "      <th>top</th>\n",
       "      <td>NaN</td>\n",
       "      <td>NaN</td>\n",
       "      <td>NaN</td>\n",
       "      <td>NaN</td>\n",
       "      <td>NaN</td>\n",
       "      <td>yes</td>\n",
       "      <td>no</td>\n",
       "      <td>no</td>\n",
       "      <td>no</td>\n",
       "      <td>no</td>\n",
       "      <td>NaN</td>\n",
       "      <td>no</td>\n",
       "      <td>semi-furnished</td>\n",
       "    </tr>\n",
       "    <tr>\n",
       "      <th>freq</th>\n",
       "      <td>NaN</td>\n",
       "      <td>NaN</td>\n",
       "      <td>NaN</td>\n",
       "      <td>NaN</td>\n",
       "      <td>NaN</td>\n",
       "      <td>468</td>\n",
       "      <td>448</td>\n",
       "      <td>354</td>\n",
       "      <td>520</td>\n",
       "      <td>373</td>\n",
       "      <td>NaN</td>\n",
       "      <td>417</td>\n",
       "      <td>227</td>\n",
       "    </tr>\n",
       "    <tr>\n",
       "      <th>mean</th>\n",
       "      <td>4.766729e+06</td>\n",
       "      <td>5150.541284</td>\n",
       "      <td>2.965138</td>\n",
       "      <td>1.286239</td>\n",
       "      <td>1.805505</td>\n",
       "      <td>NaN</td>\n",
       "      <td>NaN</td>\n",
       "      <td>NaN</td>\n",
       "      <td>NaN</td>\n",
       "      <td>NaN</td>\n",
       "      <td>0.693578</td>\n",
       "      <td>NaN</td>\n",
       "      <td>NaN</td>\n",
       "    </tr>\n",
       "    <tr>\n",
       "      <th>std</th>\n",
       "      <td>1.870440e+06</td>\n",
       "      <td>2170.141023</td>\n",
       "      <td>0.738064</td>\n",
       "      <td>0.502470</td>\n",
       "      <td>0.867492</td>\n",
       "      <td>NaN</td>\n",
       "      <td>NaN</td>\n",
       "      <td>NaN</td>\n",
       "      <td>NaN</td>\n",
       "      <td>NaN</td>\n",
       "      <td>0.861586</td>\n",
       "      <td>NaN</td>\n",
       "      <td>NaN</td>\n",
       "    </tr>\n",
       "    <tr>\n",
       "      <th>min</th>\n",
       "      <td>1.750000e+06</td>\n",
       "      <td>1650.000000</td>\n",
       "      <td>1.000000</td>\n",
       "      <td>1.000000</td>\n",
       "      <td>1.000000</td>\n",
       "      <td>NaN</td>\n",
       "      <td>NaN</td>\n",
       "      <td>NaN</td>\n",
       "      <td>NaN</td>\n",
       "      <td>NaN</td>\n",
       "      <td>0.000000</td>\n",
       "      <td>NaN</td>\n",
       "      <td>NaN</td>\n",
       "    </tr>\n",
       "    <tr>\n",
       "      <th>25%</th>\n",
       "      <td>3.430000e+06</td>\n",
       "      <td>3600.000000</td>\n",
       "      <td>2.000000</td>\n",
       "      <td>1.000000</td>\n",
       "      <td>1.000000</td>\n",
       "      <td>NaN</td>\n",
       "      <td>NaN</td>\n",
       "      <td>NaN</td>\n",
       "      <td>NaN</td>\n",
       "      <td>NaN</td>\n",
       "      <td>0.000000</td>\n",
       "      <td>NaN</td>\n",
       "      <td>NaN</td>\n",
       "    </tr>\n",
       "    <tr>\n",
       "      <th>50%</th>\n",
       "      <td>4.340000e+06</td>\n",
       "      <td>4600.000000</td>\n",
       "      <td>3.000000</td>\n",
       "      <td>1.000000</td>\n",
       "      <td>2.000000</td>\n",
       "      <td>NaN</td>\n",
       "      <td>NaN</td>\n",
       "      <td>NaN</td>\n",
       "      <td>NaN</td>\n",
       "      <td>NaN</td>\n",
       "      <td>0.000000</td>\n",
       "      <td>NaN</td>\n",
       "      <td>NaN</td>\n",
       "    </tr>\n",
       "    <tr>\n",
       "      <th>75%</th>\n",
       "      <td>5.740000e+06</td>\n",
       "      <td>6360.000000</td>\n",
       "      <td>3.000000</td>\n",
       "      <td>2.000000</td>\n",
       "      <td>2.000000</td>\n",
       "      <td>NaN</td>\n",
       "      <td>NaN</td>\n",
       "      <td>NaN</td>\n",
       "      <td>NaN</td>\n",
       "      <td>NaN</td>\n",
       "      <td>1.000000</td>\n",
       "      <td>NaN</td>\n",
       "      <td>NaN</td>\n",
       "    </tr>\n",
       "    <tr>\n",
       "      <th>max</th>\n",
       "      <td>1.330000e+07</td>\n",
       "      <td>16200.000000</td>\n",
       "      <td>6.000000</td>\n",
       "      <td>4.000000</td>\n",
       "      <td>4.000000</td>\n",
       "      <td>NaN</td>\n",
       "      <td>NaN</td>\n",
       "      <td>NaN</td>\n",
       "      <td>NaN</td>\n",
       "      <td>NaN</td>\n",
       "      <td>3.000000</td>\n",
       "      <td>NaN</td>\n",
       "      <td>NaN</td>\n",
       "    </tr>\n",
       "  </tbody>\n",
       "</table>\n",
       "</div>"
      ],
      "text/plain": [
       "               price          area    bedrooms   bathrooms     stories  \\\n",
       "count   5.450000e+02    545.000000  545.000000  545.000000  545.000000   \n",
       "unique           NaN           NaN         NaN         NaN         NaN   \n",
       "top              NaN           NaN         NaN         NaN         NaN   \n",
       "freq             NaN           NaN         NaN         NaN         NaN   \n",
       "mean    4.766729e+06   5150.541284    2.965138    1.286239    1.805505   \n",
       "std     1.870440e+06   2170.141023    0.738064    0.502470    0.867492   \n",
       "min     1.750000e+06   1650.000000    1.000000    1.000000    1.000000   \n",
       "25%     3.430000e+06   3600.000000    2.000000    1.000000    1.000000   \n",
       "50%     4.340000e+06   4600.000000    3.000000    1.000000    2.000000   \n",
       "75%     5.740000e+06   6360.000000    3.000000    2.000000    2.000000   \n",
       "max     1.330000e+07  16200.000000    6.000000    4.000000    4.000000   \n",
       "\n",
       "       mainroad guestroom basement hotwaterheating airconditioning  \\\n",
       "count       545       545      545             545             545   \n",
       "unique        2         2        2               2               2   \n",
       "top         yes        no       no              no              no   \n",
       "freq        468       448      354             520             373   \n",
       "mean        NaN       NaN      NaN             NaN             NaN   \n",
       "std         NaN       NaN      NaN             NaN             NaN   \n",
       "min         NaN       NaN      NaN             NaN             NaN   \n",
       "25%         NaN       NaN      NaN             NaN             NaN   \n",
       "50%         NaN       NaN      NaN             NaN             NaN   \n",
       "75%         NaN       NaN      NaN             NaN             NaN   \n",
       "max         NaN       NaN      NaN             NaN             NaN   \n",
       "\n",
       "           parking prefarea furnishingstatus  \n",
       "count   545.000000      545              545  \n",
       "unique         NaN        2                3  \n",
       "top            NaN       no   semi-furnished  \n",
       "freq           NaN      417              227  \n",
       "mean      0.693578      NaN              NaN  \n",
       "std       0.861586      NaN              NaN  \n",
       "min       0.000000      NaN              NaN  \n",
       "25%       0.000000      NaN              NaN  \n",
       "50%       0.000000      NaN              NaN  \n",
       "75%       1.000000      NaN              NaN  \n",
       "max       3.000000      NaN              NaN  "
      ]
     },
     "execution_count": 7,
     "metadata": {},
     "output_type": "execute_result"
    }
   ],
   "source": [
    "\n",
    "data.describe(include ='all')"
   ]
  },
  {
   "cell_type": "markdown",
   "id": "8310e13b",
   "metadata": {
    "papermill": {
     "duration": 0.020112,
     "end_time": "2024-01-01T14:21:02.333901",
     "exception": false,
     "start_time": "2024-01-01T14:21:02.313789",
     "status": "completed"
    },
    "tags": []
   },
   "source": [
    "# **Checking NULL Values**"
   ]
  },
  {
   "cell_type": "code",
   "execution_count": 8,
   "id": "d7fafe76",
   "metadata": {
    "execution": {
     "iopub.execute_input": "2024-01-01T14:21:02.376105Z",
     "iopub.status.busy": "2024-01-01T14:21:02.375723Z",
     "iopub.status.idle": "2024-01-01T14:21:02.387167Z",
     "shell.execute_reply": "2024-01-01T14:21:02.385979Z"
    },
    "papermill": {
     "duration": 0.035427,
     "end_time": "2024-01-01T14:21:02.389763",
     "exception": false,
     "start_time": "2024-01-01T14:21:02.354336",
     "status": "completed"
    },
    "tags": []
   },
   "outputs": [
    {
     "data": {
      "text/plain": [
       "price               0\n",
       "area                0\n",
       "bedrooms            0\n",
       "bathrooms           0\n",
       "stories             0\n",
       "mainroad            0\n",
       "guestroom           0\n",
       "basement            0\n",
       "hotwaterheating     0\n",
       "airconditioning     0\n",
       "parking             0\n",
       "prefarea            0\n",
       "furnishingstatus    0\n",
       "dtype: int64"
      ]
     },
     "execution_count": 8,
     "metadata": {},
     "output_type": "execute_result"
    }
   ],
   "source": [
    "\n",
    "data.isnull().sum()"
   ]
  },
  {
   "cell_type": "markdown",
   "id": "8555bac3",
   "metadata": {
    "papermill": {
     "duration": 0.022137,
     "end_time": "2024-01-01T14:21:02.436199",
     "exception": false,
     "start_time": "2024-01-01T14:21:02.414062",
     "status": "completed"
    },
    "tags": []
   },
   "source": [
    "The inference we can make after checking for null values and finding that there are no null values in any of the columns is that the dataset is complete in terms of missing values. \n",
    "\n",
    "Having no null values is beneficial because it allows us to work with the entire dataset without the need for imputation or handling missing data. We can proceed with further data analysis, visualization, and modeling."
   ]
  },
  {
   "cell_type": "markdown",
   "id": "fff7114b",
   "metadata": {
    "papermill": {
     "duration": 0.020803,
     "end_time": "2024-01-01T14:21:02.477447",
     "exception": false,
     "start_time": "2024-01-01T14:21:02.456644",
     "status": "completed"
    },
    "tags": []
   },
   "source": [
    "# **Performing EDA**\n"
   ]
  },
  {
   "cell_type": "markdown",
   "id": "5a8aab5e",
   "metadata": {
    "papermill": {
     "duration": 0.021184,
     "end_time": "2024-01-01T14:21:02.522761",
     "exception": false,
     "start_time": "2024-01-01T14:21:02.501577",
     "status": "completed"
    },
    "tags": []
   },
   "source": [
    "### **1. Handling Binary Categorical Variables (Yes/No) Categories**"
   ]
  },
  {
   "cell_type": "code",
   "execution_count": 9,
   "id": "3e448b0e",
   "metadata": {
    "execution": {
     "iopub.execute_input": "2024-01-01T14:21:02.570391Z",
     "iopub.status.busy": "2024-01-01T14:21:02.569596Z",
     "iopub.status.idle": "2024-01-01T14:21:02.576195Z",
     "shell.execute_reply": "2024-01-01T14:21:02.574883Z"
    },
    "papermill": {
     "duration": 0.035197,
     "end_time": "2024-01-01T14:21:02.579016",
     "exception": false,
     "start_time": "2024-01-01T14:21:02.543819",
     "status": "completed"
    },
    "tags": []
   },
   "outputs": [],
   "source": [
    "\n",
    "categorical_col =  ['mainroad', 'guestroom', 'basement', 'hotwaterheating', 'airconditioning', 'prefarea']"
   ]
  },
  {
   "cell_type": "code",
   "execution_count": 10,
   "id": "e05a5b2a",
   "metadata": {
    "execution": {
     "iopub.execute_input": "2024-01-01T14:21:02.637445Z",
     "iopub.status.busy": "2024-01-01T14:21:02.636181Z",
     "iopub.status.idle": "2024-01-01T14:21:02.653528Z",
     "shell.execute_reply": "2024-01-01T14:21:02.652351Z"
    },
    "papermill": {
     "duration": 0.05057,
     "end_time": "2024-01-01T14:21:02.655905",
     "exception": false,
     "start_time": "2024-01-01T14:21:02.605335",
     "status": "completed"
    },
    "tags": []
   },
   "outputs": [
    {
     "data": {
      "text/html": [
       "<div>\n",
       "<style scoped>\n",
       "    .dataframe tbody tr th:only-of-type {\n",
       "        vertical-align: middle;\n",
       "    }\n",
       "\n",
       "    .dataframe tbody tr th {\n",
       "        vertical-align: top;\n",
       "    }\n",
       "\n",
       "    .dataframe thead th {\n",
       "        text-align: right;\n",
       "    }\n",
       "</style>\n",
       "<table border=\"1\" class=\"dataframe\">\n",
       "  <thead>\n",
       "    <tr style=\"text-align: right;\">\n",
       "      <th></th>\n",
       "      <th>mainroad</th>\n",
       "      <th>guestroom</th>\n",
       "      <th>basement</th>\n",
       "      <th>hotwaterheating</th>\n",
       "      <th>airconditioning</th>\n",
       "      <th>prefarea</th>\n",
       "    </tr>\n",
       "  </thead>\n",
       "  <tbody>\n",
       "    <tr>\n",
       "      <th>0</th>\n",
       "      <td>yes</td>\n",
       "      <td>no</td>\n",
       "      <td>no</td>\n",
       "      <td>no</td>\n",
       "      <td>yes</td>\n",
       "      <td>yes</td>\n",
       "    </tr>\n",
       "    <tr>\n",
       "      <th>1</th>\n",
       "      <td>yes</td>\n",
       "      <td>no</td>\n",
       "      <td>no</td>\n",
       "      <td>no</td>\n",
       "      <td>yes</td>\n",
       "      <td>no</td>\n",
       "    </tr>\n",
       "    <tr>\n",
       "      <th>2</th>\n",
       "      <td>yes</td>\n",
       "      <td>no</td>\n",
       "      <td>yes</td>\n",
       "      <td>no</td>\n",
       "      <td>no</td>\n",
       "      <td>yes</td>\n",
       "    </tr>\n",
       "    <tr>\n",
       "      <th>3</th>\n",
       "      <td>yes</td>\n",
       "      <td>no</td>\n",
       "      <td>yes</td>\n",
       "      <td>no</td>\n",
       "      <td>yes</td>\n",
       "      <td>yes</td>\n",
       "    </tr>\n",
       "    <tr>\n",
       "      <th>4</th>\n",
       "      <td>yes</td>\n",
       "      <td>yes</td>\n",
       "      <td>yes</td>\n",
       "      <td>no</td>\n",
       "      <td>yes</td>\n",
       "      <td>no</td>\n",
       "    </tr>\n",
       "    <tr>\n",
       "      <th>...</th>\n",
       "      <td>...</td>\n",
       "      <td>...</td>\n",
       "      <td>...</td>\n",
       "      <td>...</td>\n",
       "      <td>...</td>\n",
       "      <td>...</td>\n",
       "    </tr>\n",
       "    <tr>\n",
       "      <th>540</th>\n",
       "      <td>yes</td>\n",
       "      <td>no</td>\n",
       "      <td>yes</td>\n",
       "      <td>no</td>\n",
       "      <td>no</td>\n",
       "      <td>no</td>\n",
       "    </tr>\n",
       "    <tr>\n",
       "      <th>541</th>\n",
       "      <td>no</td>\n",
       "      <td>no</td>\n",
       "      <td>no</td>\n",
       "      <td>no</td>\n",
       "      <td>no</td>\n",
       "      <td>no</td>\n",
       "    </tr>\n",
       "    <tr>\n",
       "      <th>542</th>\n",
       "      <td>yes</td>\n",
       "      <td>no</td>\n",
       "      <td>no</td>\n",
       "      <td>no</td>\n",
       "      <td>no</td>\n",
       "      <td>no</td>\n",
       "    </tr>\n",
       "    <tr>\n",
       "      <th>543</th>\n",
       "      <td>no</td>\n",
       "      <td>no</td>\n",
       "      <td>no</td>\n",
       "      <td>no</td>\n",
       "      <td>no</td>\n",
       "      <td>no</td>\n",
       "    </tr>\n",
       "    <tr>\n",
       "      <th>544</th>\n",
       "      <td>yes</td>\n",
       "      <td>no</td>\n",
       "      <td>no</td>\n",
       "      <td>no</td>\n",
       "      <td>no</td>\n",
       "      <td>no</td>\n",
       "    </tr>\n",
       "  </tbody>\n",
       "</table>\n",
       "<p>545 rows × 6 columns</p>\n",
       "</div>"
      ],
      "text/plain": [
       "    mainroad guestroom basement hotwaterheating airconditioning prefarea\n",
       "0        yes        no       no              no             yes      yes\n",
       "1        yes        no       no              no             yes       no\n",
       "2        yes        no      yes              no              no      yes\n",
       "3        yes        no      yes              no             yes      yes\n",
       "4        yes       yes      yes              no             yes       no\n",
       "..       ...       ...      ...             ...             ...      ...\n",
       "540      yes        no      yes              no              no       no\n",
       "541       no        no       no              no              no       no\n",
       "542      yes        no       no              no              no       no\n",
       "543       no        no       no              no              no       no\n",
       "544      yes        no       no              no              no       no\n",
       "\n",
       "[545 rows x 6 columns]"
      ]
     },
     "execution_count": 10,
     "metadata": {},
     "output_type": "execute_result"
    }
   ],
   "source": [
    "data[categorical_col]"
   ]
  },
  {
   "cell_type": "code",
   "execution_count": 11,
   "id": "81861726",
   "metadata": {
    "execution": {
     "iopub.execute_input": "2024-01-01T14:21:02.700194Z",
     "iopub.status.busy": "2024-01-01T14:21:02.699358Z",
     "iopub.status.idle": "2024-01-01T14:21:02.705154Z",
     "shell.execute_reply": "2024-01-01T14:21:02.704160Z"
    },
    "papermill": {
     "duration": 0.030851,
     "end_time": "2024-01-01T14:21:02.707668",
     "exception": false,
     "start_time": "2024-01-01T14:21:02.676817",
     "status": "completed"
    },
    "tags": []
   },
   "outputs": [],
   "source": [
    "def binary_map(x):\n",
    "    \"\"\"\n",
    "    Function to map 'yes' and 'no' values to 1 and 0, respectively.\n",
    "    \n",
    "    Parameters:\n",
    "    x (pandas Series): Input Series containing 'yes' and 'no' values.\n",
    "    \n",
    "    Returns:\n",
    "    pandas Series: Mapped Series with 'yes' mapped to 1 and 'no' mapped to 0.\n",
    "    \"\"\"\n",
    "    return x.map({'yes': 1, 'no': 0})"
   ]
  },
  {
   "cell_type": "code",
   "execution_count": 12,
   "id": "40a486f9",
   "metadata": {
    "execution": {
     "iopub.execute_input": "2024-01-01T14:21:02.751372Z",
     "iopub.status.busy": "2024-01-01T14:21:02.750916Z",
     "iopub.status.idle": "2024-01-01T14:21:02.777743Z",
     "shell.execute_reply": "2024-01-01T14:21:02.776554Z"
    },
    "papermill": {
     "duration": 0.051608,
     "end_time": "2024-01-01T14:21:02.780372",
     "exception": false,
     "start_time": "2024-01-01T14:21:02.728764",
     "status": "completed"
    },
    "tags": []
   },
   "outputs": [
    {
     "data": {
      "text/html": [
       "<div>\n",
       "<style scoped>\n",
       "    .dataframe tbody tr th:only-of-type {\n",
       "        vertical-align: middle;\n",
       "    }\n",
       "\n",
       "    .dataframe tbody tr th {\n",
       "        vertical-align: top;\n",
       "    }\n",
       "\n",
       "    .dataframe thead th {\n",
       "        text-align: right;\n",
       "    }\n",
       "</style>\n",
       "<table border=\"1\" class=\"dataframe\">\n",
       "  <thead>\n",
       "    <tr style=\"text-align: right;\">\n",
       "      <th></th>\n",
       "      <th>mainroad</th>\n",
       "      <th>guestroom</th>\n",
       "      <th>basement</th>\n",
       "      <th>hotwaterheating</th>\n",
       "      <th>airconditioning</th>\n",
       "      <th>prefarea</th>\n",
       "    </tr>\n",
       "  </thead>\n",
       "  <tbody>\n",
       "    <tr>\n",
       "      <th>0</th>\n",
       "      <td>1</td>\n",
       "      <td>0</td>\n",
       "      <td>0</td>\n",
       "      <td>0</td>\n",
       "      <td>1</td>\n",
       "      <td>1</td>\n",
       "    </tr>\n",
       "    <tr>\n",
       "      <th>1</th>\n",
       "      <td>1</td>\n",
       "      <td>0</td>\n",
       "      <td>0</td>\n",
       "      <td>0</td>\n",
       "      <td>1</td>\n",
       "      <td>0</td>\n",
       "    </tr>\n",
       "    <tr>\n",
       "      <th>2</th>\n",
       "      <td>1</td>\n",
       "      <td>0</td>\n",
       "      <td>1</td>\n",
       "      <td>0</td>\n",
       "      <td>0</td>\n",
       "      <td>1</td>\n",
       "    </tr>\n",
       "    <tr>\n",
       "      <th>3</th>\n",
       "      <td>1</td>\n",
       "      <td>0</td>\n",
       "      <td>1</td>\n",
       "      <td>0</td>\n",
       "      <td>1</td>\n",
       "      <td>1</td>\n",
       "    </tr>\n",
       "    <tr>\n",
       "      <th>4</th>\n",
       "      <td>1</td>\n",
       "      <td>1</td>\n",
       "      <td>1</td>\n",
       "      <td>0</td>\n",
       "      <td>1</td>\n",
       "      <td>0</td>\n",
       "    </tr>\n",
       "    <tr>\n",
       "      <th>...</th>\n",
       "      <td>...</td>\n",
       "      <td>...</td>\n",
       "      <td>...</td>\n",
       "      <td>...</td>\n",
       "      <td>...</td>\n",
       "      <td>...</td>\n",
       "    </tr>\n",
       "    <tr>\n",
       "      <th>540</th>\n",
       "      <td>1</td>\n",
       "      <td>0</td>\n",
       "      <td>1</td>\n",
       "      <td>0</td>\n",
       "      <td>0</td>\n",
       "      <td>0</td>\n",
       "    </tr>\n",
       "    <tr>\n",
       "      <th>541</th>\n",
       "      <td>0</td>\n",
       "      <td>0</td>\n",
       "      <td>0</td>\n",
       "      <td>0</td>\n",
       "      <td>0</td>\n",
       "      <td>0</td>\n",
       "    </tr>\n",
       "    <tr>\n",
       "      <th>542</th>\n",
       "      <td>1</td>\n",
       "      <td>0</td>\n",
       "      <td>0</td>\n",
       "      <td>0</td>\n",
       "      <td>0</td>\n",
       "      <td>0</td>\n",
       "    </tr>\n",
       "    <tr>\n",
       "      <th>543</th>\n",
       "      <td>0</td>\n",
       "      <td>0</td>\n",
       "      <td>0</td>\n",
       "      <td>0</td>\n",
       "      <td>0</td>\n",
       "      <td>0</td>\n",
       "    </tr>\n",
       "    <tr>\n",
       "      <th>544</th>\n",
       "      <td>1</td>\n",
       "      <td>0</td>\n",
       "      <td>0</td>\n",
       "      <td>0</td>\n",
       "      <td>0</td>\n",
       "      <td>0</td>\n",
       "    </tr>\n",
       "  </tbody>\n",
       "</table>\n",
       "<p>545 rows × 6 columns</p>\n",
       "</div>"
      ],
      "text/plain": [
       "     mainroad  guestroom  basement  hotwaterheating  airconditioning  prefarea\n",
       "0           1          0         0                0                1         1\n",
       "1           1          0         0                0                1         0\n",
       "2           1          0         1                0                0         1\n",
       "3           1          0         1                0                1         1\n",
       "4           1          1         1                0                1         0\n",
       "..        ...        ...       ...              ...              ...       ...\n",
       "540         1          0         1                0                0         0\n",
       "541         0          0         0                0                0         0\n",
       "542         1          0         0                0                0         0\n",
       "543         0          0         0                0                0         0\n",
       "544         1          0         0                0                0         0\n",
       "\n",
       "[545 rows x 6 columns]"
      ]
     },
     "execution_count": 12,
     "metadata": {},
     "output_type": "execute_result"
    }
   ],
   "source": [
    "\n",
    "data[categorical_col] = data[categorical_col].apply(binary_map)\n",
    "\n",
    "\n",
    "data[categorical_col]"
   ]
  },
  {
   "cell_type": "code",
   "execution_count": 13,
   "id": "ca9bcaee",
   "metadata": {
    "execution": {
     "iopub.execute_input": "2024-01-01T14:21:02.824369Z",
     "iopub.status.busy": "2024-01-01T14:21:02.823940Z",
     "iopub.status.idle": "2024-01-01T14:21:02.839995Z",
     "shell.execute_reply": "2024-01-01T14:21:02.838834Z"
    },
    "papermill": {
     "duration": 0.04067,
     "end_time": "2024-01-01T14:21:02.842294",
     "exception": false,
     "start_time": "2024-01-01T14:21:02.801624",
     "status": "completed"
    },
    "tags": []
   },
   "outputs": [
    {
     "data": {
      "text/html": [
       "<div>\n",
       "<style scoped>\n",
       "    .dataframe tbody tr th:only-of-type {\n",
       "        vertical-align: middle;\n",
       "    }\n",
       "\n",
       "    .dataframe tbody tr th {\n",
       "        vertical-align: top;\n",
       "    }\n",
       "\n",
       "    .dataframe thead th {\n",
       "        text-align: right;\n",
       "    }\n",
       "</style>\n",
       "<table border=\"1\" class=\"dataframe\">\n",
       "  <thead>\n",
       "    <tr style=\"text-align: right;\">\n",
       "      <th></th>\n",
       "      <th>price</th>\n",
       "      <th>area</th>\n",
       "      <th>bedrooms</th>\n",
       "      <th>bathrooms</th>\n",
       "      <th>stories</th>\n",
       "      <th>mainroad</th>\n",
       "      <th>guestroom</th>\n",
       "      <th>basement</th>\n",
       "      <th>hotwaterheating</th>\n",
       "      <th>airconditioning</th>\n",
       "      <th>parking</th>\n",
       "      <th>prefarea</th>\n",
       "      <th>furnishingstatus</th>\n",
       "    </tr>\n",
       "  </thead>\n",
       "  <tbody>\n",
       "    <tr>\n",
       "      <th>0</th>\n",
       "      <td>13300000</td>\n",
       "      <td>7420</td>\n",
       "      <td>4</td>\n",
       "      <td>2</td>\n",
       "      <td>3</td>\n",
       "      <td>1</td>\n",
       "      <td>0</td>\n",
       "      <td>0</td>\n",
       "      <td>0</td>\n",
       "      <td>1</td>\n",
       "      <td>2</td>\n",
       "      <td>1</td>\n",
       "      <td>furnished</td>\n",
       "    </tr>\n",
       "    <tr>\n",
       "      <th>1</th>\n",
       "      <td>12250000</td>\n",
       "      <td>8960</td>\n",
       "      <td>4</td>\n",
       "      <td>4</td>\n",
       "      <td>4</td>\n",
       "      <td>1</td>\n",
       "      <td>0</td>\n",
       "      <td>0</td>\n",
       "      <td>0</td>\n",
       "      <td>1</td>\n",
       "      <td>3</td>\n",
       "      <td>0</td>\n",
       "      <td>furnished</td>\n",
       "    </tr>\n",
       "    <tr>\n",
       "      <th>2</th>\n",
       "      <td>12250000</td>\n",
       "      <td>9960</td>\n",
       "      <td>3</td>\n",
       "      <td>2</td>\n",
       "      <td>2</td>\n",
       "      <td>1</td>\n",
       "      <td>0</td>\n",
       "      <td>1</td>\n",
       "      <td>0</td>\n",
       "      <td>0</td>\n",
       "      <td>2</td>\n",
       "      <td>1</td>\n",
       "      <td>semi-furnished</td>\n",
       "    </tr>\n",
       "    <tr>\n",
       "      <th>3</th>\n",
       "      <td>12215000</td>\n",
       "      <td>7500</td>\n",
       "      <td>4</td>\n",
       "      <td>2</td>\n",
       "      <td>2</td>\n",
       "      <td>1</td>\n",
       "      <td>0</td>\n",
       "      <td>1</td>\n",
       "      <td>0</td>\n",
       "      <td>1</td>\n",
       "      <td>3</td>\n",
       "      <td>1</td>\n",
       "      <td>furnished</td>\n",
       "    </tr>\n",
       "    <tr>\n",
       "      <th>4</th>\n",
       "      <td>11410000</td>\n",
       "      <td>7420</td>\n",
       "      <td>4</td>\n",
       "      <td>1</td>\n",
       "      <td>2</td>\n",
       "      <td>1</td>\n",
       "      <td>1</td>\n",
       "      <td>1</td>\n",
       "      <td>0</td>\n",
       "      <td>1</td>\n",
       "      <td>2</td>\n",
       "      <td>0</td>\n",
       "      <td>furnished</td>\n",
       "    </tr>\n",
       "  </tbody>\n",
       "</table>\n",
       "</div>"
      ],
      "text/plain": [
       "      price  area  bedrooms  bathrooms  stories  mainroad  guestroom  \\\n",
       "0  13300000  7420         4          2        3         1          0   \n",
       "1  12250000  8960         4          4        4         1          0   \n",
       "2  12250000  9960         3          2        2         1          0   \n",
       "3  12215000  7500         4          2        2         1          0   \n",
       "4  11410000  7420         4          1        2         1          1   \n",
       "\n",
       "   basement  hotwaterheating  airconditioning  parking  prefarea  \\\n",
       "0         0                0                1        2         1   \n",
       "1         0                0                1        3         0   \n",
       "2         1                0                0        2         1   \n",
       "3         1                0                1        3         1   \n",
       "4         1                0                1        2         0   \n",
       "\n",
       "  furnishingstatus  \n",
       "0        furnished  \n",
       "1        furnished  \n",
       "2   semi-furnished  \n",
       "3        furnished  \n",
       "4        furnished  "
      ]
     },
     "execution_count": 13,
     "metadata": {},
     "output_type": "execute_result"
    }
   ],
   "source": [
    "\n",
    "data.head()"
   ]
  },
  {
   "cell_type": "markdown",
   "id": "6145b461",
   "metadata": {
    "papermill": {
     "duration": 0.020999,
     "end_time": "2024-01-01T14:21:02.884755",
     "exception": false,
     "start_time": "2024-01-01T14:21:02.863756",
     "status": "completed"
    },
    "tags": []
   },
   "source": [
    "### **2. Handling Categorical data with Dummy Variable**"
   ]
  },
  {
   "cell_type": "code",
   "execution_count": 14,
   "id": "e1a87379",
   "metadata": {
    "execution": {
     "iopub.execute_input": "2024-01-01T14:21:02.929630Z",
     "iopub.status.busy": "2024-01-01T14:21:02.928901Z",
     "iopub.status.idle": "2024-01-01T14:21:02.941516Z",
     "shell.execute_reply": "2024-01-01T14:21:02.940464Z"
    },
    "papermill": {
     "duration": 0.037668,
     "end_time": "2024-01-01T14:21:02.943805",
     "exception": false,
     "start_time": "2024-01-01T14:21:02.906137",
     "status": "completed"
    },
    "tags": []
   },
   "outputs": [
    {
     "data": {
      "text/html": [
       "<div>\n",
       "<style scoped>\n",
       "    .dataframe tbody tr th:only-of-type {\n",
       "        vertical-align: middle;\n",
       "    }\n",
       "\n",
       "    .dataframe tbody tr th {\n",
       "        vertical-align: top;\n",
       "    }\n",
       "\n",
       "    .dataframe thead th {\n",
       "        text-align: right;\n",
       "    }\n",
       "</style>\n",
       "<table border=\"1\" class=\"dataframe\">\n",
       "  <thead>\n",
       "    <tr style=\"text-align: right;\">\n",
       "      <th></th>\n",
       "      <th>furnished</th>\n",
       "      <th>semi-furnished</th>\n",
       "      <th>unfurnished</th>\n",
       "    </tr>\n",
       "  </thead>\n",
       "  <tbody>\n",
       "    <tr>\n",
       "      <th>0</th>\n",
       "      <td>1</td>\n",
       "      <td>0</td>\n",
       "      <td>0</td>\n",
       "    </tr>\n",
       "    <tr>\n",
       "      <th>1</th>\n",
       "      <td>1</td>\n",
       "      <td>0</td>\n",
       "      <td>0</td>\n",
       "    </tr>\n",
       "    <tr>\n",
       "      <th>2</th>\n",
       "      <td>0</td>\n",
       "      <td>1</td>\n",
       "      <td>0</td>\n",
       "    </tr>\n",
       "    <tr>\n",
       "      <th>3</th>\n",
       "      <td>1</td>\n",
       "      <td>0</td>\n",
       "      <td>0</td>\n",
       "    </tr>\n",
       "    <tr>\n",
       "      <th>4</th>\n",
       "      <td>1</td>\n",
       "      <td>0</td>\n",
       "      <td>0</td>\n",
       "    </tr>\n",
       "  </tbody>\n",
       "</table>\n",
       "</div>"
      ],
      "text/plain": [
       "   furnished  semi-furnished  unfurnished\n",
       "0          1               0            0\n",
       "1          1               0            0\n",
       "2          0               1            0\n",
       "3          1               0            0\n",
       "4          1               0            0"
      ]
     },
     "execution_count": 14,
     "metadata": {},
     "output_type": "execute_result"
    }
   ],
   "source": [
    "\n",
    "dummy_col = pd.get_dummies(data['furnishingstatus'])\n",
    "\n",
    "\n",
    "dummy_col.head()"
   ]
  },
  {
   "cell_type": "code",
   "execution_count": 15,
   "id": "d205177e",
   "metadata": {
    "execution": {
     "iopub.execute_input": "2024-01-01T14:21:02.989277Z",
     "iopub.status.busy": "2024-01-01T14:21:02.988667Z",
     "iopub.status.idle": "2024-01-01T14:21:02.999222Z",
     "shell.execute_reply": "2024-01-01T14:21:02.998143Z"
    },
    "papermill": {
     "duration": 0.036142,
     "end_time": "2024-01-01T14:21:03.001705",
     "exception": false,
     "start_time": "2024-01-01T14:21:02.965563",
     "status": "completed"
    },
    "tags": []
   },
   "outputs": [
    {
     "data": {
      "text/html": [
       "<div>\n",
       "<style scoped>\n",
       "    .dataframe tbody tr th:only-of-type {\n",
       "        vertical-align: middle;\n",
       "    }\n",
       "\n",
       "    .dataframe tbody tr th {\n",
       "        vertical-align: top;\n",
       "    }\n",
       "\n",
       "    .dataframe thead th {\n",
       "        text-align: right;\n",
       "    }\n",
       "</style>\n",
       "<table border=\"1\" class=\"dataframe\">\n",
       "  <thead>\n",
       "    <tr style=\"text-align: right;\">\n",
       "      <th></th>\n",
       "      <th>semi-furnished</th>\n",
       "      <th>unfurnished</th>\n",
       "    </tr>\n",
       "  </thead>\n",
       "  <tbody>\n",
       "    <tr>\n",
       "      <th>0</th>\n",
       "      <td>0</td>\n",
       "      <td>0</td>\n",
       "    </tr>\n",
       "    <tr>\n",
       "      <th>1</th>\n",
       "      <td>0</td>\n",
       "      <td>0</td>\n",
       "    </tr>\n",
       "    <tr>\n",
       "      <th>2</th>\n",
       "      <td>1</td>\n",
       "      <td>0</td>\n",
       "    </tr>\n",
       "    <tr>\n",
       "      <th>3</th>\n",
       "      <td>0</td>\n",
       "      <td>0</td>\n",
       "    </tr>\n",
       "    <tr>\n",
       "      <th>4</th>\n",
       "      <td>0</td>\n",
       "      <td>0</td>\n",
       "    </tr>\n",
       "  </tbody>\n",
       "</table>\n",
       "</div>"
      ],
      "text/plain": [
       "   semi-furnished  unfurnished\n",
       "0               0            0\n",
       "1               0            0\n",
       "2               1            0\n",
       "3               0            0\n",
       "4               0            0"
      ]
     },
     "execution_count": 15,
     "metadata": {},
     "output_type": "execute_result"
    }
   ],
   "source": [
    "\n",
    "dummy_col = pd.get_dummies(data['furnishingstatus'], drop_first=True)\n",
    "\n",
    "\n",
    "dummy_col.head()"
   ]
  },
  {
   "cell_type": "code",
   "execution_count": 16,
   "id": "a7bcb94d",
   "metadata": {
    "execution": {
     "iopub.execute_input": "2024-01-01T14:21:03.047766Z",
     "iopub.status.busy": "2024-01-01T14:21:03.047331Z",
     "iopub.status.idle": "2024-01-01T14:21:03.065416Z",
     "shell.execute_reply": "2024-01-01T14:21:03.064350Z"
    },
    "papermill": {
     "duration": 0.043693,
     "end_time": "2024-01-01T14:21:03.067684",
     "exception": false,
     "start_time": "2024-01-01T14:21:03.023991",
     "status": "completed"
    },
    "tags": []
   },
   "outputs": [
    {
     "data": {
      "text/html": [
       "<div>\n",
       "<style scoped>\n",
       "    .dataframe tbody tr th:only-of-type {\n",
       "        vertical-align: middle;\n",
       "    }\n",
       "\n",
       "    .dataframe tbody tr th {\n",
       "        vertical-align: top;\n",
       "    }\n",
       "\n",
       "    .dataframe thead th {\n",
       "        text-align: right;\n",
       "    }\n",
       "</style>\n",
       "<table border=\"1\" class=\"dataframe\">\n",
       "  <thead>\n",
       "    <tr style=\"text-align: right;\">\n",
       "      <th></th>\n",
       "      <th>price</th>\n",
       "      <th>area</th>\n",
       "      <th>bedrooms</th>\n",
       "      <th>bathrooms</th>\n",
       "      <th>stories</th>\n",
       "      <th>mainroad</th>\n",
       "      <th>guestroom</th>\n",
       "      <th>basement</th>\n",
       "      <th>hotwaterheating</th>\n",
       "      <th>airconditioning</th>\n",
       "      <th>parking</th>\n",
       "      <th>prefarea</th>\n",
       "      <th>furnishingstatus</th>\n",
       "      <th>semi-furnished</th>\n",
       "      <th>unfurnished</th>\n",
       "    </tr>\n",
       "  </thead>\n",
       "  <tbody>\n",
       "    <tr>\n",
       "      <th>0</th>\n",
       "      <td>13300000</td>\n",
       "      <td>7420</td>\n",
       "      <td>4</td>\n",
       "      <td>2</td>\n",
       "      <td>3</td>\n",
       "      <td>1</td>\n",
       "      <td>0</td>\n",
       "      <td>0</td>\n",
       "      <td>0</td>\n",
       "      <td>1</td>\n",
       "      <td>2</td>\n",
       "      <td>1</td>\n",
       "      <td>furnished</td>\n",
       "      <td>0</td>\n",
       "      <td>0</td>\n",
       "    </tr>\n",
       "    <tr>\n",
       "      <th>1</th>\n",
       "      <td>12250000</td>\n",
       "      <td>8960</td>\n",
       "      <td>4</td>\n",
       "      <td>4</td>\n",
       "      <td>4</td>\n",
       "      <td>1</td>\n",
       "      <td>0</td>\n",
       "      <td>0</td>\n",
       "      <td>0</td>\n",
       "      <td>1</td>\n",
       "      <td>3</td>\n",
       "      <td>0</td>\n",
       "      <td>furnished</td>\n",
       "      <td>0</td>\n",
       "      <td>0</td>\n",
       "    </tr>\n",
       "    <tr>\n",
       "      <th>2</th>\n",
       "      <td>12250000</td>\n",
       "      <td>9960</td>\n",
       "      <td>3</td>\n",
       "      <td>2</td>\n",
       "      <td>2</td>\n",
       "      <td>1</td>\n",
       "      <td>0</td>\n",
       "      <td>1</td>\n",
       "      <td>0</td>\n",
       "      <td>0</td>\n",
       "      <td>2</td>\n",
       "      <td>1</td>\n",
       "      <td>semi-furnished</td>\n",
       "      <td>1</td>\n",
       "      <td>0</td>\n",
       "    </tr>\n",
       "    <tr>\n",
       "      <th>3</th>\n",
       "      <td>12215000</td>\n",
       "      <td>7500</td>\n",
       "      <td>4</td>\n",
       "      <td>2</td>\n",
       "      <td>2</td>\n",
       "      <td>1</td>\n",
       "      <td>0</td>\n",
       "      <td>1</td>\n",
       "      <td>0</td>\n",
       "      <td>1</td>\n",
       "      <td>3</td>\n",
       "      <td>1</td>\n",
       "      <td>furnished</td>\n",
       "      <td>0</td>\n",
       "      <td>0</td>\n",
       "    </tr>\n",
       "    <tr>\n",
       "      <th>4</th>\n",
       "      <td>11410000</td>\n",
       "      <td>7420</td>\n",
       "      <td>4</td>\n",
       "      <td>1</td>\n",
       "      <td>2</td>\n",
       "      <td>1</td>\n",
       "      <td>1</td>\n",
       "      <td>1</td>\n",
       "      <td>0</td>\n",
       "      <td>1</td>\n",
       "      <td>2</td>\n",
       "      <td>0</td>\n",
       "      <td>furnished</td>\n",
       "      <td>0</td>\n",
       "      <td>0</td>\n",
       "    </tr>\n",
       "  </tbody>\n",
       "</table>\n",
       "</div>"
      ],
      "text/plain": [
       "      price  area  bedrooms  bathrooms  stories  mainroad  guestroom  \\\n",
       "0  13300000  7420         4          2        3         1          0   \n",
       "1  12250000  8960         4          4        4         1          0   \n",
       "2  12250000  9960         3          2        2         1          0   \n",
       "3  12215000  7500         4          2        2         1          0   \n",
       "4  11410000  7420         4          1        2         1          1   \n",
       "\n",
       "   basement  hotwaterheating  airconditioning  parking  prefarea  \\\n",
       "0         0                0                1        2         1   \n",
       "1         0                0                1        3         0   \n",
       "2         1                0                0        2         1   \n",
       "3         1                0                1        3         1   \n",
       "4         1                0                1        2         0   \n",
       "\n",
       "  furnishingstatus  semi-furnished  unfurnished  \n",
       "0        furnished               0            0  \n",
       "1        furnished               0            0  \n",
       "2   semi-furnished               1            0  \n",
       "3        furnished               0            0  \n",
       "4        furnished               0            0  "
      ]
     },
     "execution_count": 16,
     "metadata": {},
     "output_type": "execute_result"
    }
   ],
   "source": [
    "\n",
    "data = pd.concat([data, dummy_col], axis=1)\n",
    "\n",
    "\n",
    "data.head()"
   ]
  },
  {
   "cell_type": "code",
   "execution_count": 17,
   "id": "e6924241",
   "metadata": {
    "execution": {
     "iopub.execute_input": "2024-01-01T14:21:03.114342Z",
     "iopub.status.busy": "2024-01-01T14:21:03.113905Z",
     "iopub.status.idle": "2024-01-01T14:21:03.131432Z",
     "shell.execute_reply": "2024-01-01T14:21:03.130255Z"
    },
    "papermill": {
     "duration": 0.043906,
     "end_time": "2024-01-01T14:21:03.133880",
     "exception": false,
     "start_time": "2024-01-01T14:21:03.089974",
     "status": "completed"
    },
    "tags": []
   },
   "outputs": [
    {
     "data": {
      "text/html": [
       "<div>\n",
       "<style scoped>\n",
       "    .dataframe tbody tr th:only-of-type {\n",
       "        vertical-align: middle;\n",
       "    }\n",
       "\n",
       "    .dataframe tbody tr th {\n",
       "        vertical-align: top;\n",
       "    }\n",
       "\n",
       "    .dataframe thead th {\n",
       "        text-align: right;\n",
       "    }\n",
       "</style>\n",
       "<table border=\"1\" class=\"dataframe\">\n",
       "  <thead>\n",
       "    <tr style=\"text-align: right;\">\n",
       "      <th></th>\n",
       "      <th>price</th>\n",
       "      <th>area</th>\n",
       "      <th>bedrooms</th>\n",
       "      <th>bathrooms</th>\n",
       "      <th>stories</th>\n",
       "      <th>mainroad</th>\n",
       "      <th>guestroom</th>\n",
       "      <th>basement</th>\n",
       "      <th>hotwaterheating</th>\n",
       "      <th>airconditioning</th>\n",
       "      <th>parking</th>\n",
       "      <th>prefarea</th>\n",
       "      <th>semi-furnished</th>\n",
       "      <th>unfurnished</th>\n",
       "    </tr>\n",
       "  </thead>\n",
       "  <tbody>\n",
       "    <tr>\n",
       "      <th>0</th>\n",
       "      <td>13300000</td>\n",
       "      <td>7420</td>\n",
       "      <td>4</td>\n",
       "      <td>2</td>\n",
       "      <td>3</td>\n",
       "      <td>1</td>\n",
       "      <td>0</td>\n",
       "      <td>0</td>\n",
       "      <td>0</td>\n",
       "      <td>1</td>\n",
       "      <td>2</td>\n",
       "      <td>1</td>\n",
       "      <td>0</td>\n",
       "      <td>0</td>\n",
       "    </tr>\n",
       "    <tr>\n",
       "      <th>1</th>\n",
       "      <td>12250000</td>\n",
       "      <td>8960</td>\n",
       "      <td>4</td>\n",
       "      <td>4</td>\n",
       "      <td>4</td>\n",
       "      <td>1</td>\n",
       "      <td>0</td>\n",
       "      <td>0</td>\n",
       "      <td>0</td>\n",
       "      <td>1</td>\n",
       "      <td>3</td>\n",
       "      <td>0</td>\n",
       "      <td>0</td>\n",
       "      <td>0</td>\n",
       "    </tr>\n",
       "    <tr>\n",
       "      <th>2</th>\n",
       "      <td>12250000</td>\n",
       "      <td>9960</td>\n",
       "      <td>3</td>\n",
       "      <td>2</td>\n",
       "      <td>2</td>\n",
       "      <td>1</td>\n",
       "      <td>0</td>\n",
       "      <td>1</td>\n",
       "      <td>0</td>\n",
       "      <td>0</td>\n",
       "      <td>2</td>\n",
       "      <td>1</td>\n",
       "      <td>1</td>\n",
       "      <td>0</td>\n",
       "    </tr>\n",
       "    <tr>\n",
       "      <th>3</th>\n",
       "      <td>12215000</td>\n",
       "      <td>7500</td>\n",
       "      <td>4</td>\n",
       "      <td>2</td>\n",
       "      <td>2</td>\n",
       "      <td>1</td>\n",
       "      <td>0</td>\n",
       "      <td>1</td>\n",
       "      <td>0</td>\n",
       "      <td>1</td>\n",
       "      <td>3</td>\n",
       "      <td>1</td>\n",
       "      <td>0</td>\n",
       "      <td>0</td>\n",
       "    </tr>\n",
       "    <tr>\n",
       "      <th>4</th>\n",
       "      <td>11410000</td>\n",
       "      <td>7420</td>\n",
       "      <td>4</td>\n",
       "      <td>1</td>\n",
       "      <td>2</td>\n",
       "      <td>1</td>\n",
       "      <td>1</td>\n",
       "      <td>1</td>\n",
       "      <td>0</td>\n",
       "      <td>1</td>\n",
       "      <td>2</td>\n",
       "      <td>0</td>\n",
       "      <td>0</td>\n",
       "      <td>0</td>\n",
       "    </tr>\n",
       "  </tbody>\n",
       "</table>\n",
       "</div>"
      ],
      "text/plain": [
       "      price  area  bedrooms  bathrooms  stories  mainroad  guestroom  \\\n",
       "0  13300000  7420         4          2        3         1          0   \n",
       "1  12250000  8960         4          4        4         1          0   \n",
       "2  12250000  9960         3          2        2         1          0   \n",
       "3  12215000  7500         4          2        2         1          0   \n",
       "4  11410000  7420         4          1        2         1          1   \n",
       "\n",
       "   basement  hotwaterheating  airconditioning  parking  prefarea  \\\n",
       "0         0                0                1        2         1   \n",
       "1         0                0                1        3         0   \n",
       "2         1                0                0        2         1   \n",
       "3         1                0                1        3         1   \n",
       "4         1                0                1        2         0   \n",
       "\n",
       "   semi-furnished  unfurnished  \n",
       "0               0            0  \n",
       "1               0            0  \n",
       "2               1            0  \n",
       "3               0            0  \n",
       "4               0            0  "
      ]
     },
     "execution_count": 17,
     "metadata": {},
     "output_type": "execute_result"
    }
   ],
   "source": [
    "\n",
    "data.drop(['furnishingstatus'], axis=1, inplace=True)\n",
    "\n",
    "\n",
    "data.head()"
   ]
  },
  {
   "cell_type": "markdown",
   "id": "13b87eba",
   "metadata": {
    "papermill": {
     "duration": 0.02245,
     "end_time": "2024-01-01T14:21:03.179130",
     "exception": false,
     "start_time": "2024-01-01T14:21:03.156680",
     "status": "completed"
    },
    "tags": []
   },
   "source": [
    "# **Splitting data into Training and Testing data**"
   ]
  },
  {
   "cell_type": "code",
   "execution_count": 18,
   "id": "ee982380",
   "metadata": {
    "execution": {
     "iopub.execute_input": "2024-01-01T14:21:03.226877Z",
     "iopub.status.busy": "2024-01-01T14:21:03.226443Z",
     "iopub.status.idle": "2024-01-01T14:21:03.233993Z",
     "shell.execute_reply": "2024-01-01T14:21:03.232928Z"
    },
    "papermill": {
     "duration": 0.03442,
     "end_time": "2024-01-01T14:21:03.236362",
     "exception": false,
     "start_time": "2024-01-01T14:21:03.201942",
     "status": "completed"
    },
    "tags": []
   },
   "outputs": [
    {
     "data": {
      "text/plain": [
       "Index(['price', 'area', 'bedrooms', 'bathrooms', 'stories', 'mainroad',\n",
       "       'guestroom', 'basement', 'hotwaterheating', 'airconditioning',\n",
       "       'parking', 'prefarea', 'semi-furnished', 'unfurnished'],\n",
       "      dtype='object')"
      ]
     },
     "execution_count": 18,
     "metadata": {},
     "output_type": "execute_result"
    }
   ],
   "source": [
    "\n",
    "data.columns"
   ]
  },
  {
   "cell_type": "code",
   "execution_count": 19,
   "id": "f4c721d8",
   "metadata": {
    "execution": {
     "iopub.execute_input": "2024-01-01T14:21:03.284542Z",
     "iopub.status.busy": "2024-01-01T14:21:03.283315Z",
     "iopub.status.idle": "2024-01-01T14:21:03.290735Z",
     "shell.execute_reply": "2024-01-01T14:21:03.289557Z"
    },
    "papermill": {
     "duration": 0.034292,
     "end_time": "2024-01-01T14:21:03.293391",
     "exception": false,
     "start_time": "2024-01-01T14:21:03.259099",
     "status": "completed"
    },
    "tags": []
   },
   "outputs": [],
   "source": [
    "np.random.seed(0)\n",
    "\n",
    "\n",
    "df_train, df_test = train_test_split(data, train_size=0.7, test_size=0.3, random_state=100)"
   ]
  },
  {
   "cell_type": "code",
   "execution_count": 20,
   "id": "2d54c3cd",
   "metadata": {
    "execution": {
     "iopub.execute_input": "2024-01-01T14:21:03.340731Z",
     "iopub.status.busy": "2024-01-01T14:21:03.340289Z",
     "iopub.status.idle": "2024-01-01T14:21:03.356868Z",
     "shell.execute_reply": "2024-01-01T14:21:03.355667Z"
    },
    "papermill": {
     "duration": 0.043225,
     "end_time": "2024-01-01T14:21:03.359297",
     "exception": false,
     "start_time": "2024-01-01T14:21:03.316072",
     "status": "completed"
    },
    "tags": []
   },
   "outputs": [
    {
     "data": {
      "text/html": [
       "<div>\n",
       "<style scoped>\n",
       "    .dataframe tbody tr th:only-of-type {\n",
       "        vertical-align: middle;\n",
       "    }\n",
       "\n",
       "    .dataframe tbody tr th {\n",
       "        vertical-align: top;\n",
       "    }\n",
       "\n",
       "    .dataframe thead th {\n",
       "        text-align: right;\n",
       "    }\n",
       "</style>\n",
       "<table border=\"1\" class=\"dataframe\">\n",
       "  <thead>\n",
       "    <tr style=\"text-align: right;\">\n",
       "      <th></th>\n",
       "      <th>price</th>\n",
       "      <th>area</th>\n",
       "      <th>bedrooms</th>\n",
       "      <th>bathrooms</th>\n",
       "      <th>stories</th>\n",
       "      <th>mainroad</th>\n",
       "      <th>guestroom</th>\n",
       "      <th>basement</th>\n",
       "      <th>hotwaterheating</th>\n",
       "      <th>airconditioning</th>\n",
       "      <th>parking</th>\n",
       "      <th>prefarea</th>\n",
       "      <th>semi-furnished</th>\n",
       "      <th>unfurnished</th>\n",
       "    </tr>\n",
       "  </thead>\n",
       "  <tbody>\n",
       "    <tr>\n",
       "      <th>359</th>\n",
       "      <td>3710000</td>\n",
       "      <td>3600</td>\n",
       "      <td>3</td>\n",
       "      <td>1</td>\n",
       "      <td>1</td>\n",
       "      <td>1</td>\n",
       "      <td>0</td>\n",
       "      <td>0</td>\n",
       "      <td>0</td>\n",
       "      <td>0</td>\n",
       "      <td>1</td>\n",
       "      <td>0</td>\n",
       "      <td>0</td>\n",
       "      <td>1</td>\n",
       "    </tr>\n",
       "    <tr>\n",
       "      <th>19</th>\n",
       "      <td>8855000</td>\n",
       "      <td>6420</td>\n",
       "      <td>3</td>\n",
       "      <td>2</td>\n",
       "      <td>2</td>\n",
       "      <td>1</td>\n",
       "      <td>0</td>\n",
       "      <td>0</td>\n",
       "      <td>0</td>\n",
       "      <td>1</td>\n",
       "      <td>1</td>\n",
       "      <td>1</td>\n",
       "      <td>1</td>\n",
       "      <td>0</td>\n",
       "    </tr>\n",
       "    <tr>\n",
       "      <th>159</th>\n",
       "      <td>5460000</td>\n",
       "      <td>3150</td>\n",
       "      <td>3</td>\n",
       "      <td>2</td>\n",
       "      <td>1</td>\n",
       "      <td>1</td>\n",
       "      <td>1</td>\n",
       "      <td>1</td>\n",
       "      <td>0</td>\n",
       "      <td>1</td>\n",
       "      <td>0</td>\n",
       "      <td>0</td>\n",
       "      <td>0</td>\n",
       "      <td>0</td>\n",
       "    </tr>\n",
       "    <tr>\n",
       "      <th>35</th>\n",
       "      <td>8080940</td>\n",
       "      <td>7000</td>\n",
       "      <td>3</td>\n",
       "      <td>2</td>\n",
       "      <td>4</td>\n",
       "      <td>1</td>\n",
       "      <td>0</td>\n",
       "      <td>0</td>\n",
       "      <td>0</td>\n",
       "      <td>1</td>\n",
       "      <td>2</td>\n",
       "      <td>0</td>\n",
       "      <td>0</td>\n",
       "      <td>0</td>\n",
       "    </tr>\n",
       "    <tr>\n",
       "      <th>28</th>\n",
       "      <td>8400000</td>\n",
       "      <td>7950</td>\n",
       "      <td>5</td>\n",
       "      <td>2</td>\n",
       "      <td>2</td>\n",
       "      <td>1</td>\n",
       "      <td>0</td>\n",
       "      <td>1</td>\n",
       "      <td>1</td>\n",
       "      <td>0</td>\n",
       "      <td>2</td>\n",
       "      <td>0</td>\n",
       "      <td>0</td>\n",
       "      <td>1</td>\n",
       "    </tr>\n",
       "  </tbody>\n",
       "</table>\n",
       "</div>"
      ],
      "text/plain": [
       "       price  area  bedrooms  bathrooms  stories  mainroad  guestroom  \\\n",
       "359  3710000  3600         3          1        1         1          0   \n",
       "19   8855000  6420         3          2        2         1          0   \n",
       "159  5460000  3150         3          2        1         1          1   \n",
       "35   8080940  7000         3          2        4         1          0   \n",
       "28   8400000  7950         5          2        2         1          0   \n",
       "\n",
       "     basement  hotwaterheating  airconditioning  parking  prefarea  \\\n",
       "359         0                0                0        1         0   \n",
       "19          0                0                1        1         1   \n",
       "159         1                0                1        0         0   \n",
       "35          0                0                1        2         0   \n",
       "28          1                1                0        2         0   \n",
       "\n",
       "     semi-furnished  unfurnished  \n",
       "359               0            1  \n",
       "19                1            0  \n",
       "159               0            0  \n",
       "35                0            0  \n",
       "28                0            1  "
      ]
     },
     "execution_count": 20,
     "metadata": {},
     "output_type": "execute_result"
    }
   ],
   "source": [
    "\n",
    "df_train.head()"
   ]
  },
  {
   "cell_type": "code",
   "execution_count": 21,
   "id": "78964669",
   "metadata": {
    "execution": {
     "iopub.execute_input": "2024-01-01T14:21:03.409221Z",
     "iopub.status.busy": "2024-01-01T14:21:03.407709Z",
     "iopub.status.idle": "2024-01-01T14:21:03.414860Z",
     "shell.execute_reply": "2024-01-01T14:21:03.413739Z"
    },
    "papermill": {
     "duration": 0.03462,
     "end_time": "2024-01-01T14:21:03.417548",
     "exception": false,
     "start_time": "2024-01-01T14:21:03.382928",
     "status": "completed"
    },
    "tags": []
   },
   "outputs": [
    {
     "data": {
      "text/plain": [
       "(381, 14)"
      ]
     },
     "execution_count": 21,
     "metadata": {},
     "output_type": "execute_result"
    }
   ],
   "source": [
    "\n",
    "df_train.shape"
   ]
  },
  {
   "cell_type": "code",
   "execution_count": 22,
   "id": "c0673326",
   "metadata": {
    "execution": {
     "iopub.execute_input": "2024-01-01T14:21:03.466392Z",
     "iopub.status.busy": "2024-01-01T14:21:03.465994Z",
     "iopub.status.idle": "2024-01-01T14:21:03.481817Z",
     "shell.execute_reply": "2024-01-01T14:21:03.480627Z"
    },
    "papermill": {
     "duration": 0.04293,
     "end_time": "2024-01-01T14:21:03.484019",
     "exception": false,
     "start_time": "2024-01-01T14:21:03.441089",
     "status": "completed"
    },
    "tags": []
   },
   "outputs": [
    {
     "data": {
      "text/html": [
       "<div>\n",
       "<style scoped>\n",
       "    .dataframe tbody tr th:only-of-type {\n",
       "        vertical-align: middle;\n",
       "    }\n",
       "\n",
       "    .dataframe tbody tr th {\n",
       "        vertical-align: top;\n",
       "    }\n",
       "\n",
       "    .dataframe thead th {\n",
       "        text-align: right;\n",
       "    }\n",
       "</style>\n",
       "<table border=\"1\" class=\"dataframe\">\n",
       "  <thead>\n",
       "    <tr style=\"text-align: right;\">\n",
       "      <th></th>\n",
       "      <th>price</th>\n",
       "      <th>area</th>\n",
       "      <th>bedrooms</th>\n",
       "      <th>bathrooms</th>\n",
       "      <th>stories</th>\n",
       "      <th>mainroad</th>\n",
       "      <th>guestroom</th>\n",
       "      <th>basement</th>\n",
       "      <th>hotwaterheating</th>\n",
       "      <th>airconditioning</th>\n",
       "      <th>parking</th>\n",
       "      <th>prefarea</th>\n",
       "      <th>semi-furnished</th>\n",
       "      <th>unfurnished</th>\n",
       "    </tr>\n",
       "  </thead>\n",
       "  <tbody>\n",
       "    <tr>\n",
       "      <th>265</th>\n",
       "      <td>4403000</td>\n",
       "      <td>2880</td>\n",
       "      <td>3</td>\n",
       "      <td>1</td>\n",
       "      <td>2</td>\n",
       "      <td>1</td>\n",
       "      <td>0</td>\n",
       "      <td>0</td>\n",
       "      <td>0</td>\n",
       "      <td>0</td>\n",
       "      <td>0</td>\n",
       "      <td>1</td>\n",
       "      <td>1</td>\n",
       "      <td>0</td>\n",
       "    </tr>\n",
       "    <tr>\n",
       "      <th>54</th>\n",
       "      <td>7350000</td>\n",
       "      <td>6000</td>\n",
       "      <td>3</td>\n",
       "      <td>2</td>\n",
       "      <td>2</td>\n",
       "      <td>1</td>\n",
       "      <td>1</td>\n",
       "      <td>0</td>\n",
       "      <td>0</td>\n",
       "      <td>1</td>\n",
       "      <td>1</td>\n",
       "      <td>0</td>\n",
       "      <td>1</td>\n",
       "      <td>0</td>\n",
       "    </tr>\n",
       "    <tr>\n",
       "      <th>171</th>\n",
       "      <td>5250000</td>\n",
       "      <td>10269</td>\n",
       "      <td>3</td>\n",
       "      <td>1</td>\n",
       "      <td>1</td>\n",
       "      <td>1</td>\n",
       "      <td>0</td>\n",
       "      <td>0</td>\n",
       "      <td>0</td>\n",
       "      <td>0</td>\n",
       "      <td>1</td>\n",
       "      <td>1</td>\n",
       "      <td>1</td>\n",
       "      <td>0</td>\n",
       "    </tr>\n",
       "    <tr>\n",
       "      <th>244</th>\n",
       "      <td>4550000</td>\n",
       "      <td>5320</td>\n",
       "      <td>3</td>\n",
       "      <td>1</td>\n",
       "      <td>2</td>\n",
       "      <td>1</td>\n",
       "      <td>1</td>\n",
       "      <td>1</td>\n",
       "      <td>0</td>\n",
       "      <td>0</td>\n",
       "      <td>0</td>\n",
       "      <td>1</td>\n",
       "      <td>1</td>\n",
       "      <td>0</td>\n",
       "    </tr>\n",
       "    <tr>\n",
       "      <th>268</th>\n",
       "      <td>4382000</td>\n",
       "      <td>4950</td>\n",
       "      <td>4</td>\n",
       "      <td>1</td>\n",
       "      <td>2</td>\n",
       "      <td>1</td>\n",
       "      <td>0</td>\n",
       "      <td>0</td>\n",
       "      <td>0</td>\n",
       "      <td>1</td>\n",
       "      <td>0</td>\n",
       "      <td>0</td>\n",
       "      <td>1</td>\n",
       "      <td>0</td>\n",
       "    </tr>\n",
       "  </tbody>\n",
       "</table>\n",
       "</div>"
      ],
      "text/plain": [
       "       price   area  bedrooms  bathrooms  stories  mainroad  guestroom  \\\n",
       "265  4403000   2880         3          1        2         1          0   \n",
       "54   7350000   6000         3          2        2         1          1   \n",
       "171  5250000  10269         3          1        1         1          0   \n",
       "244  4550000   5320         3          1        2         1          1   \n",
       "268  4382000   4950         4          1        2         1          0   \n",
       "\n",
       "     basement  hotwaterheating  airconditioning  parking  prefarea  \\\n",
       "265         0                0                0        0         1   \n",
       "54          0                0                1        1         0   \n",
       "171         0                0                0        1         1   \n",
       "244         1                0                0        0         1   \n",
       "268         0                0                1        0         0   \n",
       "\n",
       "     semi-furnished  unfurnished  \n",
       "265               1            0  \n",
       "54                1            0  \n",
       "171               1            0  \n",
       "244               1            0  \n",
       "268               1            0  "
      ]
     },
     "execution_count": 22,
     "metadata": {},
     "output_type": "execute_result"
    }
   ],
   "source": [
    "\n",
    "df_test.head()"
   ]
  },
  {
   "cell_type": "code",
   "execution_count": 23,
   "id": "d8657c2f",
   "metadata": {
    "execution": {
     "iopub.execute_input": "2024-01-01T14:21:03.535006Z",
     "iopub.status.busy": "2024-01-01T14:21:03.534155Z",
     "iopub.status.idle": "2024-01-01T14:21:03.540454Z",
     "shell.execute_reply": "2024-01-01T14:21:03.539576Z"
    },
    "papermill": {
     "duration": 0.03349,
     "end_time": "2024-01-01T14:21:03.542647",
     "exception": false,
     "start_time": "2024-01-01T14:21:03.509157",
     "status": "completed"
    },
    "tags": []
   },
   "outputs": [
    {
     "data": {
      "text/plain": [
       "(164, 14)"
      ]
     },
     "execution_count": 23,
     "metadata": {},
     "output_type": "execute_result"
    }
   ],
   "source": [
    "\n",
    "df_test.shape"
   ]
  },
  {
   "cell_type": "markdown",
   "id": "955b3acb",
   "metadata": {
    "papermill": {
     "duration": 0.023433,
     "end_time": "2024-01-01T14:21:03.589726",
     "exception": false,
     "start_time": "2024-01-01T14:21:03.566293",
     "status": "completed"
    },
    "tags": []
   },
   "source": [
    "# **Scaling Training Data: MinMaxScaler**"
   ]
  },
  {
   "cell_type": "code",
   "execution_count": 24,
   "id": "49baf0ba",
   "metadata": {
    "execution": {
     "iopub.execute_input": "2024-01-01T14:21:03.641159Z",
     "iopub.status.busy": "2024-01-01T14:21:03.640396Z",
     "iopub.status.idle": "2024-01-01T14:21:03.644753Z",
     "shell.execute_reply": "2024-01-01T14:21:03.643929Z"
    },
    "papermill": {
     "duration": 0.032503,
     "end_time": "2024-01-01T14:21:03.646988",
     "exception": false,
     "start_time": "2024-01-01T14:21:03.614485",
     "status": "completed"
    },
    "tags": []
   },
   "outputs": [],
   "source": [
    "\n",
    "scaler = MinMaxScaler()"
   ]
  },
  {
   "cell_type": "code",
   "execution_count": 25,
   "id": "4047fb3a",
   "metadata": {
    "execution": {
     "iopub.execute_input": "2024-01-01T14:21:03.697087Z",
     "iopub.status.busy": "2024-01-01T14:21:03.696319Z",
     "iopub.status.idle": "2024-01-01T14:21:03.701029Z",
     "shell.execute_reply": "2024-01-01T14:21:03.700111Z"
    },
    "papermill": {
     "duration": 0.032735,
     "end_time": "2024-01-01T14:21:03.703517",
     "exception": false,
     "start_time": "2024-01-01T14:21:03.670782",
     "status": "completed"
    },
    "tags": []
   },
   "outputs": [],
   "source": [
    "\n",
    "col_to_scale = ['area', 'bedrooms', 'bathrooms', 'stories', 'parking', 'price']"
   ]
  },
  {
   "cell_type": "code",
   "execution_count": 26,
   "id": "d4685bab",
   "metadata": {
    "execution": {
     "iopub.execute_input": "2024-01-01T14:21:03.754188Z",
     "iopub.status.busy": "2024-01-01T14:21:03.753496Z",
     "iopub.status.idle": "2024-01-01T14:21:03.763841Z",
     "shell.execute_reply": "2024-01-01T14:21:03.762744Z"
    },
    "papermill": {
     "duration": 0.038927,
     "end_time": "2024-01-01T14:21:03.767106",
     "exception": false,
     "start_time": "2024-01-01T14:21:03.728179",
     "status": "completed"
    },
    "tags": []
   },
   "outputs": [],
   "source": [
    "\n",
    "df_train[col_to_scale] = scaler.fit_transform(df_train[col_to_scale])"
   ]
  },
  {
   "cell_type": "markdown",
   "id": "50c95284",
   "metadata": {
    "papermill": {
     "duration": 0.023782,
     "end_time": "2024-01-01T14:21:03.814870",
     "exception": false,
     "start_time": "2024-01-01T14:21:03.791088",
     "status": "completed"
    },
    "tags": []
   },
   "source": [
    "# **Training the model**"
   ]
  },
  {
   "cell_type": "code",
   "execution_count": 27,
   "id": "4c0f7ed2",
   "metadata": {
    "execution": {
     "iopub.execute_input": "2024-01-01T14:21:03.865016Z",
     "iopub.status.busy": "2024-01-01T14:21:03.864571Z",
     "iopub.status.idle": "2024-01-01T14:21:03.870140Z",
     "shell.execute_reply": "2024-01-01T14:21:03.868952Z"
    },
    "papermill": {
     "duration": 0.0332,
     "end_time": "2024-01-01T14:21:03.872452",
     "exception": false,
     "start_time": "2024-01-01T14:21:03.839252",
     "status": "completed"
    },
    "tags": []
   },
   "outputs": [],
   "source": [
    "\n",
    "y_train = df_train.pop('price')\n",
    "\n",
    "\n",
    "x_train = df_train"
   ]
  },
  {
   "cell_type": "code",
   "execution_count": 28,
   "id": "d5d9d521",
   "metadata": {
    "execution": {
     "iopub.execute_input": "2024-01-01T14:21:03.922630Z",
     "iopub.status.busy": "2024-01-01T14:21:03.921940Z",
     "iopub.status.idle": "2024-01-01T14:21:03.926197Z",
     "shell.execute_reply": "2024-01-01T14:21:03.925254Z"
    },
    "papermill": {
     "duration": 0.032536,
     "end_time": "2024-01-01T14:21:03.928919",
     "exception": false,
     "start_time": "2024-01-01T14:21:03.896383",
     "status": "completed"
    },
    "tags": []
   },
   "outputs": [],
   "source": [
    "\n",
    "linear_regression = LinearRegression()"
   ]
  },
  {
   "cell_type": "code",
   "execution_count": 29,
   "id": "5300ba79",
   "metadata": {
    "execution": {
     "iopub.execute_input": "2024-01-01T14:21:03.980933Z",
     "iopub.status.busy": "2024-01-01T14:21:03.980495Z",
     "iopub.status.idle": "2024-01-01T14:21:04.017524Z",
     "shell.execute_reply": "2024-01-01T14:21:04.016262Z"
    },
    "papermill": {
     "duration": 0.065302,
     "end_time": "2024-01-01T14:21:04.019955",
     "exception": false,
     "start_time": "2024-01-01T14:21:03.954653",
     "status": "completed"
    },
    "tags": []
   },
   "outputs": [
    {
     "data": {
      "text/html": [
       "<style>#sk-container-id-1 {color: black;background-color: white;}#sk-container-id-1 pre{padding: 0;}#sk-container-id-1 div.sk-toggleable {background-color: white;}#sk-container-id-1 label.sk-toggleable__label {cursor: pointer;display: block;width: 100%;margin-bottom: 0;padding: 0.3em;box-sizing: border-box;text-align: center;}#sk-container-id-1 label.sk-toggleable__label-arrow:before {content: \"▸\";float: left;margin-right: 0.25em;color: #696969;}#sk-container-id-1 label.sk-toggleable__label-arrow:hover:before {color: black;}#sk-container-id-1 div.sk-estimator:hover label.sk-toggleable__label-arrow:before {color: black;}#sk-container-id-1 div.sk-toggleable__content {max-height: 0;max-width: 0;overflow: hidden;text-align: left;background-color: #f0f8ff;}#sk-container-id-1 div.sk-toggleable__content pre {margin: 0.2em;color: black;border-radius: 0.25em;background-color: #f0f8ff;}#sk-container-id-1 input.sk-toggleable__control:checked~div.sk-toggleable__content {max-height: 200px;max-width: 100%;overflow: auto;}#sk-container-id-1 input.sk-toggleable__control:checked~label.sk-toggleable__label-arrow:before {content: \"▾\";}#sk-container-id-1 div.sk-estimator input.sk-toggleable__control:checked~label.sk-toggleable__label {background-color: #d4ebff;}#sk-container-id-1 div.sk-label input.sk-toggleable__control:checked~label.sk-toggleable__label {background-color: #d4ebff;}#sk-container-id-1 input.sk-hidden--visually {border: 0;clip: rect(1px 1px 1px 1px);clip: rect(1px, 1px, 1px, 1px);height: 1px;margin: -1px;overflow: hidden;padding: 0;position: absolute;width: 1px;}#sk-container-id-1 div.sk-estimator {font-family: monospace;background-color: #f0f8ff;border: 1px dotted black;border-radius: 0.25em;box-sizing: border-box;margin-bottom: 0.5em;}#sk-container-id-1 div.sk-estimator:hover {background-color: #d4ebff;}#sk-container-id-1 div.sk-parallel-item::after {content: \"\";width: 100%;border-bottom: 1px solid gray;flex-grow: 1;}#sk-container-id-1 div.sk-label:hover label.sk-toggleable__label {background-color: #d4ebff;}#sk-container-id-1 div.sk-serial::before {content: \"\";position: absolute;border-left: 1px solid gray;box-sizing: border-box;top: 0;bottom: 0;left: 50%;z-index: 0;}#sk-container-id-1 div.sk-serial {display: flex;flex-direction: column;align-items: center;background-color: white;padding-right: 0.2em;padding-left: 0.2em;position: relative;}#sk-container-id-1 div.sk-item {position: relative;z-index: 1;}#sk-container-id-1 div.sk-parallel {display: flex;align-items: stretch;justify-content: center;background-color: white;position: relative;}#sk-container-id-1 div.sk-item::before, #sk-container-id-1 div.sk-parallel-item::before {content: \"\";position: absolute;border-left: 1px solid gray;box-sizing: border-box;top: 0;bottom: 0;left: 50%;z-index: -1;}#sk-container-id-1 div.sk-parallel-item {display: flex;flex-direction: column;z-index: 1;position: relative;background-color: white;}#sk-container-id-1 div.sk-parallel-item:first-child::after {align-self: flex-end;width: 50%;}#sk-container-id-1 div.sk-parallel-item:last-child::after {align-self: flex-start;width: 50%;}#sk-container-id-1 div.sk-parallel-item:only-child::after {width: 0;}#sk-container-id-1 div.sk-dashed-wrapped {border: 1px dashed gray;margin: 0 0.4em 0.5em 0.4em;box-sizing: border-box;padding-bottom: 0.4em;background-color: white;}#sk-container-id-1 div.sk-label label {font-family: monospace;font-weight: bold;display: inline-block;line-height: 1.2em;}#sk-container-id-1 div.sk-label-container {text-align: center;}#sk-container-id-1 div.sk-container {/* jupyter's `normalize.less` sets `[hidden] { display: none; }` but bootstrap.min.css set `[hidden] { display: none !important; }` so we also need the `!important` here to be able to override the default hidden behavior on the sphinx rendered scikit-learn.org. See: https://github.com/scikit-learn/scikit-learn/issues/21755 */display: inline-block !important;position: relative;}#sk-container-id-1 div.sk-text-repr-fallback {display: none;}</style><div id=\"sk-container-id-1\" class=\"sk-top-container\"><div class=\"sk-text-repr-fallback\"><pre>LinearRegression()</pre><b>In a Jupyter environment, please rerun this cell to show the HTML representation or trust the notebook. <br />On GitHub, the HTML representation is unable to render, please try loading this page with nbviewer.org.</b></div><div class=\"sk-container\" hidden><div class=\"sk-item\"><div class=\"sk-estimator sk-toggleable\"><input class=\"sk-toggleable__control sk-hidden--visually\" id=\"sk-estimator-id-1\" type=\"checkbox\" checked><label for=\"sk-estimator-id-1\" class=\"sk-toggleable__label sk-toggleable__label-arrow\">LinearRegression</label><div class=\"sk-toggleable__content\"><pre>LinearRegression()</pre></div></div></div></div></div>"
      ],
      "text/plain": [
       "LinearRegression()"
      ]
     },
     "execution_count": 29,
     "metadata": {},
     "output_type": "execute_result"
    }
   ],
   "source": [
    "linear_regression.fit(x_train, y_train)"
   ]
  },
  {
   "cell_type": "code",
   "execution_count": 30,
   "id": "281e5e9a",
   "metadata": {
    "execution": {
     "iopub.execute_input": "2024-01-01T14:21:04.072934Z",
     "iopub.status.busy": "2024-01-01T14:21:04.072504Z",
     "iopub.status.idle": "2024-01-01T14:21:04.078587Z",
     "shell.execute_reply": "2024-01-01T14:21:04.077397Z"
    },
    "papermill": {
     "duration": 0.035389,
     "end_time": "2024-01-01T14:21:04.081229",
     "exception": false,
     "start_time": "2024-01-01T14:21:04.045840",
     "status": "completed"
    },
    "tags": []
   },
   "outputs": [
    {
     "name": "stdout",
     "output_type": "stream",
     "text": [
      "[ 0.23466354  0.04673453  0.19082319  0.10851563  0.05044144  0.03042826\n",
      "  0.02159488  0.08486327  0.06688093  0.06073533  0.05942788  0.00092052\n",
      " -0.03100561]\n"
     ]
    }
   ],
   "source": [
    "\n",
    "coefficients = linear_regression.coef_\n",
    "\n",
    "\n",
    "print(coefficients)"
   ]
  },
  {
   "cell_type": "code",
   "execution_count": 31,
   "id": "6f117530",
   "metadata": {
    "execution": {
     "iopub.execute_input": "2024-01-01T14:21:04.132543Z",
     "iopub.status.busy": "2024-01-01T14:21:04.132099Z",
     "iopub.status.idle": "2024-01-01T14:21:04.141343Z",
     "shell.execute_reply": "2024-01-01T14:21:04.140125Z"
    },
    "papermill": {
     "duration": 0.038401,
     "end_time": "2024-01-01T14:21:04.144191",
     "exception": false,
     "start_time": "2024-01-01T14:21:04.105790",
     "status": "completed"
    },
    "tags": []
   },
   "outputs": [
    {
     "name": "stdout",
     "output_type": "stream",
     "text": [
      "0.6814893088451202\n"
     ]
    }
   ],
   "source": [
    "\n",
    "score = linear_regression.score(x_train, y_train)\n",
    "\n",
    "\n",
    "print(score)"
   ]
  },
  {
   "cell_type": "markdown",
   "id": "bc554647",
   "metadata": {
    "papermill": {
     "duration": 0.025372,
     "end_time": "2024-01-01T14:21:04.194143",
     "exception": false,
     "start_time": "2024-01-01T14:21:04.168771",
     "status": "completed"
    },
    "tags": []
   },
   "source": [
    "# **Scaling Test Data: MinMaxScaler**"
   ]
  },
  {
   "cell_type": "code",
   "execution_count": 32,
   "id": "e6b76e45",
   "metadata": {
    "execution": {
     "iopub.execute_input": "2024-01-01T14:21:04.245768Z",
     "iopub.status.busy": "2024-01-01T14:21:04.245351Z",
     "iopub.status.idle": "2024-01-01T14:21:04.249838Z",
     "shell.execute_reply": "2024-01-01T14:21:04.248871Z"
    },
    "papermill": {
     "duration": 0.033116,
     "end_time": "2024-01-01T14:21:04.252131",
     "exception": false,
     "start_time": "2024-01-01T14:21:04.219015",
     "status": "completed"
    },
    "tags": []
   },
   "outputs": [],
   "source": [
    "\n",
    "col_to_scale = ['area', 'bedrooms', 'bathrooms', 'stories', 'parking','price']"
   ]
  },
  {
   "cell_type": "code",
   "execution_count": 33,
   "id": "e22c4115",
   "metadata": {
    "execution": {
     "iopub.execute_input": "2024-01-01T14:21:04.303364Z",
     "iopub.status.busy": "2024-01-01T14:21:04.302591Z",
     "iopub.status.idle": "2024-01-01T14:21:04.312693Z",
     "shell.execute_reply": "2024-01-01T14:21:04.311774Z"
    },
    "papermill": {
     "duration": 0.038574,
     "end_time": "2024-01-01T14:21:04.315084",
     "exception": false,
     "start_time": "2024-01-01T14:21:04.276510",
     "status": "completed"
    },
    "tags": []
   },
   "outputs": [],
   "source": [
    "\n",
    "df_test[col_to_scale] = scaler.fit_transform(df_test[col_to_scale])"
   ]
  },
  {
   "cell_type": "markdown",
   "id": "8db304c9",
   "metadata": {
    "papermill": {
     "duration": 0.024013,
     "end_time": "2024-01-01T14:21:04.363369",
     "exception": false,
     "start_time": "2024-01-01T14:21:04.339356",
     "status": "completed"
    },
    "tags": []
   },
   "source": [
    "# **Testing our model**"
   ]
  },
  {
   "cell_type": "code",
   "execution_count": 34,
   "id": "e12feef9",
   "metadata": {
    "execution": {
     "iopub.execute_input": "2024-01-01T14:21:04.414860Z",
     "iopub.status.busy": "2024-01-01T14:21:04.414082Z",
     "iopub.status.idle": "2024-01-01T14:21:04.419307Z",
     "shell.execute_reply": "2024-01-01T14:21:04.418344Z"
    },
    "papermill": {
     "duration": 0.033789,
     "end_time": "2024-01-01T14:21:04.421722",
     "exception": false,
     "start_time": "2024-01-01T14:21:04.387933",
     "status": "completed"
    },
    "tags": []
   },
   "outputs": [],
   "source": [
    "\n",
    "y_test = df_test.pop('price')\n",
    "\n",
    "\n",
    "x_test = df_test"
   ]
  },
  {
   "cell_type": "code",
   "execution_count": 35,
   "id": "dacdd8d6",
   "metadata": {
    "execution": {
     "iopub.execute_input": "2024-01-01T14:21:04.473724Z",
     "iopub.status.busy": "2024-01-01T14:21:04.472755Z",
     "iopub.status.idle": "2024-01-01T14:21:04.480385Z",
     "shell.execute_reply": "2024-01-01T14:21:04.479350Z"
    },
    "papermill": {
     "duration": 0.036463,
     "end_time": "2024-01-01T14:21:04.482927",
     "exception": false,
     "start_time": "2024-01-01T14:21:04.446464",
     "status": "completed"
    },
    "tags": []
   },
   "outputs": [],
   "source": [
    "\n",
    "prediction = linear_regression.predict(x_test)"
   ]
  },
  {
   "cell_type": "markdown",
   "id": "aa990beb",
   "metadata": {
    "papermill": {
     "duration": 0.024516,
     "end_time": "2024-01-01T14:21:04.533554",
     "exception": false,
     "start_time": "2024-01-01T14:21:04.509038",
     "status": "completed"
    },
    "tags": []
   },
   "source": [
    "### **Checking R squared value**"
   ]
  },
  {
   "cell_type": "code",
   "execution_count": 36,
   "id": "644ebb55",
   "metadata": {
    "execution": {
     "iopub.execute_input": "2024-01-01T14:21:04.584780Z",
     "iopub.status.busy": "2024-01-01T14:21:04.583979Z",
     "iopub.status.idle": "2024-01-01T14:21:04.589109Z",
     "shell.execute_reply": "2024-01-01T14:21:04.588303Z"
    },
    "papermill": {
     "duration": 0.03307,
     "end_time": "2024-01-01T14:21:04.591293",
     "exception": false,
     "start_time": "2024-01-01T14:21:04.558223",
     "status": "completed"
    },
    "tags": []
   },
   "outputs": [],
   "source": [
    "\n",
    "r2 = r2_score(y_test, prediction)"
   ]
  },
  {
   "cell_type": "markdown",
   "id": "e7be6747",
   "metadata": {
    "papermill": {
     "duration": 0.024088,
     "end_time": "2024-01-01T14:21:04.639942",
     "exception": false,
     "start_time": "2024-01-01T14:21:04.615854",
     "status": "completed"
    },
    "tags": []
   },
   "source": [
    "# **Comparing the actual and predicted values**"
   ]
  },
  {
   "cell_type": "code",
   "execution_count": 37,
   "id": "b78db946",
   "metadata": {
    "execution": {
     "iopub.execute_input": "2024-01-01T14:21:04.690008Z",
     "iopub.status.busy": "2024-01-01T14:21:04.689569Z",
     "iopub.status.idle": "2024-01-01T14:21:04.694571Z",
     "shell.execute_reply": "2024-01-01T14:21:04.693615Z"
    },
    "papermill": {
     "duration": 0.032808,
     "end_time": "2024-01-01T14:21:04.696956",
     "exception": false,
     "start_time": "2024-01-01T14:21:04.664148",
     "status": "completed"
    },
    "tags": []
   },
   "outputs": [],
   "source": [
    "\n",
    "y_test.shape\n",
    "\n",
    "y_test_matrix = y_test.values.reshape(-1, 1)"
   ]
  },
  {
   "cell_type": "code",
   "execution_count": 38,
   "id": "b421189d",
   "metadata": {
    "execution": {
     "iopub.execute_input": "2024-01-01T14:21:04.748621Z",
     "iopub.status.busy": "2024-01-01T14:21:04.748124Z",
     "iopub.status.idle": "2024-01-01T14:21:04.754200Z",
     "shell.execute_reply": "2024-01-01T14:21:04.752995Z"
    },
    "papermill": {
     "duration": 0.035055,
     "end_time": "2024-01-01T14:21:04.756429",
     "exception": false,
     "start_time": "2024-01-01T14:21:04.721374",
     "status": "completed"
    },
    "tags": []
   },
   "outputs": [],
   "source": [
    "\n",
    "data_frame = pd.DataFrame({'actual': y_test_matrix.flatten(), 'predicted': prediction.flatten()})"
   ]
  },
  {
   "cell_type": "code",
   "execution_count": 39,
   "id": "3258baf3",
   "metadata": {
    "execution": {
     "iopub.execute_input": "2024-01-01T14:21:04.807453Z",
     "iopub.status.busy": "2024-01-01T14:21:04.806655Z",
     "iopub.status.idle": "2024-01-01T14:21:04.817961Z",
     "shell.execute_reply": "2024-01-01T14:21:04.816823Z"
    },
    "papermill": {
     "duration": 0.039616,
     "end_time": "2024-01-01T14:21:04.820300",
     "exception": false,
     "start_time": "2024-01-01T14:21:04.780684",
     "status": "completed"
    },
    "tags": []
   },
   "outputs": [
    {
     "data": {
      "text/html": [
       "<div>\n",
       "<style scoped>\n",
       "    .dataframe tbody tr th:only-of-type {\n",
       "        vertical-align: middle;\n",
       "    }\n",
       "\n",
       "    .dataframe tbody tr th {\n",
       "        vertical-align: top;\n",
       "    }\n",
       "\n",
       "    .dataframe thead th {\n",
       "        text-align: right;\n",
       "    }\n",
       "</style>\n",
       "<table border=\"1\" class=\"dataframe\">\n",
       "  <thead>\n",
       "    <tr style=\"text-align: right;\">\n",
       "      <th></th>\n",
       "      <th>actual</th>\n",
       "      <th>predicted</th>\n",
       "    </tr>\n",
       "  </thead>\n",
       "  <tbody>\n",
       "    <tr>\n",
       "      <th>0</th>\n",
       "      <td>0.247651</td>\n",
       "      <td>0.202410</td>\n",
       "    </tr>\n",
       "    <tr>\n",
       "      <th>1</th>\n",
       "      <td>0.530201</td>\n",
       "      <td>0.374464</td>\n",
       "    </tr>\n",
       "    <tr>\n",
       "      <th>2</th>\n",
       "      <td>0.328859</td>\n",
       "      <td>0.305654</td>\n",
       "    </tr>\n",
       "    <tr>\n",
       "      <th>3</th>\n",
       "      <td>0.261745</td>\n",
       "      <td>0.293786</td>\n",
       "    </tr>\n",
       "    <tr>\n",
       "      <th>4</th>\n",
       "      <td>0.245638</td>\n",
       "      <td>0.258827</td>\n",
       "    </tr>\n",
       "    <tr>\n",
       "      <th>5</th>\n",
       "      <td>0.275168</td>\n",
       "      <td>0.189463</td>\n",
       "    </tr>\n",
       "    <tr>\n",
       "      <th>6</th>\n",
       "      <td>0.644295</td>\n",
       "      <td>0.499099</td>\n",
       "    </tr>\n",
       "    <tr>\n",
       "      <th>7</th>\n",
       "      <td>0.328859</td>\n",
       "      <td>0.297637</td>\n",
       "    </tr>\n",
       "    <tr>\n",
       "      <th>8</th>\n",
       "      <td>0.087248</td>\n",
       "      <td>0.122528</td>\n",
       "    </tr>\n",
       "    <tr>\n",
       "      <th>9</th>\n",
       "      <td>0.395973</td>\n",
       "      <td>0.316860</td>\n",
       "    </tr>\n",
       "  </tbody>\n",
       "</table>\n",
       "</div>"
      ],
      "text/plain": [
       "     actual  predicted\n",
       "0  0.247651   0.202410\n",
       "1  0.530201   0.374464\n",
       "2  0.328859   0.305654\n",
       "3  0.261745   0.293786\n",
       "4  0.245638   0.258827\n",
       "5  0.275168   0.189463\n",
       "6  0.644295   0.499099\n",
       "7  0.328859   0.297637\n",
       "8  0.087248   0.122528\n",
       "9  0.395973   0.316860"
      ]
     },
     "execution_count": 39,
     "metadata": {},
     "output_type": "execute_result"
    }
   ],
   "source": [
    "# Display the first 10 rows of the DataFrame\n",
    "data_frame.head(10)"
   ]
  },
  {
   "cell_type": "markdown",
   "id": "f89d6862",
   "metadata": {
    "papermill": {
     "duration": 0.025712,
     "end_time": "2024-01-01T14:21:04.870515",
     "exception": false,
     "start_time": "2024-01-01T14:21:04.844803",
     "status": "completed"
    },
    "tags": []
   },
   "source": [
    "### **Plotting the Graph**"
   ]
  },
  {
   "cell_type": "code",
   "execution_count": 40,
   "id": "cca3270f",
   "metadata": {
    "execution": {
     "iopub.execute_input": "2024-01-01T14:21:04.923086Z",
     "iopub.status.busy": "2024-01-01T14:21:04.922312Z",
     "iopub.status.idle": "2024-01-01T14:21:05.329429Z",
     "shell.execute_reply": "2024-01-01T14:21:05.328234Z"
    },
    "papermill": {
     "duration": 0.436421,
     "end_time": "2024-01-01T14:21:05.332300",
     "exception": false,
     "start_time": "2024-01-01T14:21:04.895879",
     "status": "completed"
    },
    "tags": []
   },
   "outputs": [
    {
     "data": {
      "text/plain": [
       "Text(0, 0.5, 'Predicted')"
      ]
     },
     "execution_count": 40,
     "metadata": {},
     "output_type": "execute_result"
    },
    {
     "data": {
      "image/png": "[encoded data removed]",
      "text/plain": [
       "<Figure size 640x480 with 1 Axes>"
      ]
     },
     "metadata": {},
     "output_type": "display_data"
    }
   ],
   "source": [
    "# Create a new figure\n",
    "fig = plt.figure()\n",
    "\n",
    "# Scatter plot of actual versus predicted values\n",
    "plt.scatter(y_test, prediction)\n",
    "\n",
    "# Set the title and labels for the plot\n",
    "plt.title('Actual vs Prediction')\n",
    "plt.xlabel('Actual', fontsize=15)\n",
    "plt.ylabel('Predicted', fontsize=15)"
   ]
  },
  {
   "cell_type": "code",
   "execution_count": 41,
   "id": "c43c738a",
   "metadata": {
    "execution": {
     "iopub.execute_input": "2024-01-01T14:21:05.385446Z",
     "iopub.status.busy": "2024-01-01T14:21:05.384219Z",
     "iopub.status.idle": "2024-01-01T14:21:05.391572Z",
     "shell.execute_reply": "2024-01-01T14:21:05.390195Z"
    },
    "papermill": {
     "duration": 0.036617,
     "end_time": "2024-01-01T14:21:05.394188",
     "exception": false,
     "start_time": "2024-01-01T14:21:05.357571",
     "status": "completed"
    },
    "tags": []
   },
   "outputs": [
    {
     "name": "stdout",
     "output_type": "stream",
     "text": [
      "Mean Squared Error: 0.014451840099238335\n"
     ]
    }
   ],
   "source": [
    "from sklearn.metrics import mean_squared_error\n",
    "\n",
    "mse = mean_squared_error(y_test, prediction)\n",
    "print(\"Mean Squared Error:\", mse)"
   ]
  },
  {
   "cell_type": "code",
   "execution_count": 42,
   "id": "e42c589a",
   "metadata": {
    "execution": {
     "iopub.execute_input": "2024-01-01T14:21:05.447631Z",
     "iopub.status.busy": "2024-01-01T14:21:05.447173Z",
     "iopub.status.idle": "2024-01-01T14:21:05.640105Z",
     "shell.execute_reply": "2024-01-01T14:21:05.638837Z"
    },
    "papermill": {
     "duration": 0.222561,
     "end_time": "2024-01-01T14:21:05.642872",
     "exception": false,
     "start_time": "2024-01-01T14:21:05.420311",
     "status": "completed"
    },
    "tags": []
   },
   "outputs": [],
   "source": [
    "from sklearn.neighbors import KNeighborsRegressor\n",
    "from sklearn.tree import DecisionTreeRegressor\n",
    "knn_model = KNeighborsRegressor(n_neighbors=5) \n",
    "knn_model.fit(x_train, y_train)\n",
    "knn_y_pred = knn_model.predict(x_test)\n",
    "knn_mse = mean_squared_error(y_test, knn_y_pred)\n",
    "knn_r2 = r2_score(y_test, knn_y_pred)\n"
   ]
  },
  {
   "cell_type": "code",
   "execution_count": 43,
   "id": "71cf1a58",
   "metadata": {
    "execution": {
     "iopub.execute_input": "2024-01-01T14:21:05.696270Z",
     "iopub.status.busy": "2024-01-01T14:21:05.695860Z",
     "iopub.status.idle": "2024-01-01T14:21:05.702255Z",
     "shell.execute_reply": "2024-01-01T14:21:05.700836Z"
    },
    "papermill": {
     "duration": 0.035951,
     "end_time": "2024-01-01T14:21:05.704901",
     "exception": false,
     "start_time": "2024-01-01T14:21:05.668950",
     "status": "completed"
    },
    "tags": []
   },
   "outputs": [
    {
     "name": "stdout",
     "output_type": "stream",
     "text": [
      " Mean Squared Error: 0.01672211678431942\n",
      " R-squared: 0.5366509982121971\n"
     ]
    }
   ],
   "source": [
    "print(\" Mean Squared Error:\", knn_mse)\n",
    "print(\" R-squared:\", knn_r2)"
   ]
  },
  {
   "cell_type": "code",
   "execution_count": 44,
   "id": "75c36254",
   "metadata": {
    "execution": {
     "iopub.execute_input": "2024-01-01T14:21:05.759125Z",
     "iopub.status.busy": "2024-01-01T14:21:05.758724Z",
     "iopub.status.idle": "2024-01-01T14:21:05.773208Z",
     "shell.execute_reply": "2024-01-01T14:21:05.771930Z"
    },
    "papermill": {
     "duration": 0.044372,
     "end_time": "2024-01-01T14:21:05.775868",
     "exception": false,
     "start_time": "2024-01-01T14:21:05.731496",
     "status": "completed"
    },
    "tags": []
   },
   "outputs": [],
   "source": [
    "dt_model = DecisionTreeRegressor(random_state=42)\n",
    "dt_model.fit(x_train, y_train)\n",
    "dt_y_pred = dt_model.predict(x_test)"
   ]
  },
  {
   "cell_type": "code",
   "execution_count": 45,
   "id": "4b4255a8",
   "metadata": {
    "execution": {
     "iopub.execute_input": "2024-01-01T14:21:05.829244Z",
     "iopub.status.busy": "2024-01-01T14:21:05.828806Z",
     "iopub.status.idle": "2024-01-01T14:21:05.836521Z",
     "shell.execute_reply": "2024-01-01T14:21:05.835270Z"
    },
    "papermill": {
     "duration": 0.037404,
     "end_time": "2024-01-01T14:21:05.838776",
     "exception": false,
     "start_time": "2024-01-01T14:21:05.801372",
     "status": "completed"
    },
    "tags": []
   },
   "outputs": [],
   "source": [
    "dt_mse = mean_squared_error(y_test, dt_y_pred)\n",
    "dt_r2 = r2_score(y_test, dt_y_pred)"
   ]
  },
  {
   "cell_type": "code",
   "execution_count": 46,
   "id": "b468fa32",
   "metadata": {
    "execution": {
     "iopub.execute_input": "2024-01-01T14:21:05.892461Z",
     "iopub.status.busy": "2024-01-01T14:21:05.891933Z",
     "iopub.status.idle": "2024-01-01T14:21:05.898532Z",
     "shell.execute_reply": "2024-01-01T14:21:05.897238Z"
    },
    "papermill": {
     "duration": 0.036123,
     "end_time": "2024-01-01T14:21:05.900888",
     "exception": false,
     "start_time": "2024-01-01T14:21:05.864765",
     "status": "completed"
    },
    "tags": []
   },
   "outputs": [
    {
     "name": "stdout",
     "output_type": "stream",
     "text": [
      " Mean Squared Error: 0.026799030018492542\n",
      " R-squared: 0.25743229950446356\n"
     ]
    }
   ],
   "source": [
    "print(\" Mean Squared Error:\", dt_mse)\n",
    "print(\" R-squared:\", dt_r2)"
   ]
  },
  {
   "cell_type": "code",
   "execution_count": 47,
   "id": "24b51f6f",
   "metadata": {
    "execution": {
     "iopub.execute_input": "2024-01-01T14:21:05.953852Z",
     "iopub.status.busy": "2024-01-01T14:21:05.953394Z",
     "iopub.status.idle": "2024-01-01T14:21:06.207838Z",
     "shell.execute_reply": "2024-01-01T14:21:06.206942Z"
    },
    "papermill": {
     "duration": 0.283645,
     "end_time": "2024-01-01T14:21:06.210139",
     "exception": false,
     "start_time": "2024-01-01T14:21:05.926494",
     "status": "completed"
    },
    "tags": []
   },
   "outputs": [
    {
     "data": {
      "image/png": "[encoded data removed]",
      "text/plain": [
       "<Figure size 1000x600 with 1 Axes>"
      ]
     },
     "metadata": {},
     "output_type": "display_data"
    }
   ],
   "source": [
    "import matplotlib.pyplot as plt\n",
    "algorithms = ['Linear Regression', 'KNN', 'Decision Tree']\n",
    "r2_scores = [r2, knn_r2, dt_r2]\n",
    "\n",
    "plt.figure(figsize=(10, 6))\n",
    "plt.bar(algorithms, r2_scores, color=['blue', 'green', 'red'])\n",
    "plt.title('R-squared Comparison')\n",
    "plt.xlabel('Algorithm')\n",
    "plt.ylabel('R-squared')\n",
    "plt.ylim(0, 1)  \n",
    "plt.show()"
   ]
  },
  {
   "cell_type": "code",
   "execution_count": 48,
   "id": "99e3a965",
   "metadata": {
    "execution": {
     "iopub.execute_input": "2024-01-01T14:21:06.265138Z",
     "iopub.status.busy": "2024-01-01T14:21:06.264143Z",
     "iopub.status.idle": "2024-01-01T14:21:06.585156Z",
     "shell.execute_reply": "2024-01-01T14:21:06.583809Z"
    },
    "papermill": {
     "duration": 0.351828,
     "end_time": "2024-01-01T14:21:06.588084",
     "exception": false,
     "start_time": "2024-01-01T14:21:06.236256",
     "status": "completed"
    },
    "tags": []
   },
   "outputs": [
    {
     "data": {
      "image/png": "[encoded data removed]",
      "text/plain": [
       "<Figure size 1000x600 with 1 Axes>"
      ]
     },
     "metadata": {},
     "output_type": "display_data"
    }
   ],
   "source": [
    "plt.figure(figsize=(10, 6))\n",
    "plt.scatter(y_test, knn_y_pred, color='blue')\n",
    "plt.title('Actual vs. Predicted Median House Value')\n",
    "plt.xlabel('Actual Median House Value')\n",
    "plt.ylabel('Predicted Median House Value')\n",
    "plt.show()"
   ]
  },
  {
   "cell_type": "code",
   "execution_count": 49,
   "id": "d05cd29f",
   "metadata": {
    "execution": {
     "iopub.execute_input": "2024-01-01T14:21:06.643977Z",
     "iopub.status.busy": "2024-01-01T14:21:06.643536Z",
     "iopub.status.idle": "2024-01-01T14:21:06.958965Z",
     "shell.execute_reply": "2024-01-01T14:21:06.957492Z"
    },
    "papermill": {
     "duration": 0.347107,
     "end_time": "2024-01-01T14:21:06.961882",
     "exception": false,
     "start_time": "2024-01-01T14:21:06.614775",
     "status": "completed"
    },
    "tags": []
   },
   "outputs": [
    {
     "data": {
      "image/png": "[encoded data removed]",
      "text/plain": [
       "<Figure size 1000x600 with 1 Axes>"
      ]
     },
     "metadata": {},
     "output_type": "display_data"
    }
   ],
   "source": [
    "plt.figure(figsize=(10, 6))\n",
    "plt.scatter(y_test, dt_y_pred, color='blue')\n",
    "plt.title('Actual vs. Predicted Median House Value')\n",
    "plt.xlabel('Actual Median House Value')\n",
    "plt.ylabel('Predicted Median House Value')\n",
    "plt.show()"
   ]
  }
 ],
 "metadata": {
  "kaggle": {
   "accelerator": "none",
   "dataSources": [
    {
     "datasetId": 133734,
     "sourceId": 317933,
     "sourceType": "datasetVersion"
    }
   ],
   "dockerImageVersionId": 30527,
   "isGpuEnabled": false,
   "isInternetEnabled": true,
   "language": "python",
   "sourceType": "notebook"
  },
  "kernelspec": {
   "display_name": "Python 3",
   "language": "python",
   "name": "python3"
  },
  "language_info": {
   "codemirror_mode": {
    "name": "ipython",
    "version": 3
   },
   "file_extension": ".py",
   "mimetype": "text/x-python",
   "name": "python",
   "nbconvert_exporter": "python",
   "pygments_lexer": "ipython3",
   "version": "3.10.12"
  },
  "papermill": {
   "default_parameters": {},
   "duration": 21.38154,
   "end_time": "2024-01-01T14:21:08.012900",
   "environment_variables": {},
   "exception": null,
   "input_path": "__notebook__.ipynb",
   "output_path": "__notebook__.ipynb",
   "parameters": {},
   "start_time": "2024-01-01T14:20:46.631360",
   "version": "2.4.0"
  }
 },
 "nbformat": 4,
 "nbformat_minor": 5
}
