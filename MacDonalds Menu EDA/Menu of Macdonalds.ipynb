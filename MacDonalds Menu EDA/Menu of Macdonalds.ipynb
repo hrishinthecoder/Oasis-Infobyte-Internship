{
 "cells": [
  {
   "cell_type": "markdown",
   "id": "ede4f69c",
   "metadata": {
    "papermill": {
     "duration": 0.009192,
     "end_time": "2023-07-25T02:57:20.276014",
     "exception": false,
     "start_time": "2023-07-25T02:57:20.266822",
     "status": "completed"
    },
    "tags": []
   },
   "source": [
    "## Libraries"
   ]
  },
  {
   "cell_type": "code",
   "execution_count": 2,
   "id": "7b859cd6",
   "metadata": {
    "execution": {
     "iopub.execute_input": "2023-07-25T02:57:20.297756Z",
     "iopub.status.busy": "2023-07-25T02:57:20.297152Z",
     "iopub.status.idle": "2023-07-25T02:57:22.130826Z",
     "shell.execute_reply": "2023-07-25T02:57:22.129312Z"
    },
    "papermill": {
     "duration": 1.848459,
     "end_time": "2023-07-25T02:57:22.134060",
     "exception": false,
     "start_time": "2023-07-25T02:57:20.285601",
     "status": "completed"
    },
    "tags": []
   },
   "outputs": [
    {
     "name": "stderr",
     "output_type": "stream",
     "text": [
      "c:\\Hrishin Personal\\certificates\\learning materials\\Lib\\site-packages\\fuzzywuzzy\\fuzz.py:11: UserWarning: Using slow pure-python SequenceMatcher. Install python-Levenshtein to remove this warning\n",
      "  warnings.warn('Using slow pure-python SequenceMatcher. Install python-Levenshtein to remove this warning')\n"
     ]
    }
   ],
   "source": [
    "import pandas as pd\n",
    "import numpy as np\n",
    "import matplotlib.pyplot as plt\n",
    "import seaborn as sns\n",
    "from fuzzywuzzy import fuzz , process\n"
   ]
  },
  {
   "cell_type": "markdown",
   "id": "7cba09d8",
   "metadata": {
    "papermill": {
     "duration": 0.009011,
     "end_time": "2023-07-25T02:57:22.152694",
     "exception": false,
     "start_time": "2023-07-25T02:57:22.143683",
     "status": "completed"
    },
    "tags": []
   },
   "source": [
    "## Importing Data"
   ]
  },
  {
   "cell_type": "code",
   "execution_count": 3,
   "id": "529808c5",
   "metadata": {
    "execution": {
     "iopub.execute_input": "2023-07-25T02:57:22.177211Z",
     "iopub.status.busy": "2023-07-25T02:57:22.175762Z",
     "iopub.status.idle": "2023-07-25T02:57:22.239650Z",
     "shell.execute_reply": "2023-07-25T02:57:22.238335Z"
    },
    "papermill": {
     "duration": 0.078712,
     "end_time": "2023-07-25T02:57:22.243220",
     "exception": false,
     "start_time": "2023-07-25T02:57:22.164508",
     "status": "completed"
    },
    "tags": []
   },
   "outputs": [
    {
     "name": "stdout",
     "output_type": "stream",
     "text": [
      "<class 'pandas.core.frame.DataFrame'>\n",
      "RangeIndex: 260 entries, 0 to 259\n",
      "Data columns (total 24 columns):\n",
      " #   Column                         Non-Null Count  Dtype  \n",
      "---  ------                         --------------  -----  \n",
      " 0   Category                       260 non-null    object \n",
      " 1   Item                           260 non-null    object \n",
      " 2   Serving Size                   260 non-null    object \n",
      " 3   Calories                       260 non-null    int64  \n",
      " 4   Calories from Fat              260 non-null    int64  \n",
      " 5   Total Fat                      260 non-null    float64\n",
      " 6   Total Fat (% Daily Value)      260 non-null    int64  \n",
      " 7   Saturated Fat                  260 non-null    float64\n",
      " 8   Saturated Fat (% Daily Value)  260 non-null    int64  \n",
      " 9   Trans Fat                      260 non-null    float64\n",
      " 10  Cholesterol                    260 non-null    int64  \n",
      " 11  Cholesterol (% Daily Value)    260 non-null    int64  \n",
      " 12  Sodium                         260 non-null    int64  \n",
      " 13  Sodium (% Daily Value)         260 non-null    int64  \n",
      " 14  Carbohydrates                  260 non-null    int64  \n",
      " 15  Carbohydrates (% Daily Value)  260 non-null    int64  \n",
      " 16  Dietary Fiber                  260 non-null    int64  \n",
      " 17  Dietary Fiber (% Daily Value)  260 non-null    int64  \n",
      " 18  Sugars                         260 non-null    int64  \n",
      " 19  Protein                        260 non-null    int64  \n",
      " 20  Vitamin A (% Daily Value)      260 non-null    int64  \n",
      " 21  Vitamin C (% Daily Value)      260 non-null    int64  \n",
      " 22  Calcium (% Daily Value)        260 non-null    int64  \n",
      " 23  Iron (% Daily Value)           260 non-null    int64  \n",
      "dtypes: float64(3), int64(18), object(3)\n",
      "memory usage: 48.9+ KB\n"
     ]
    }
   ],
   "source": [
    "menu = pd.read_csv(r\"C:\\Users\\afiroz\\Downloads\\menu.csv\")\n",
    "menu.info()"
   ]
  },
  {
   "cell_type": "markdown",
   "id": "1f5589ed",
   "metadata": {
    "papermill": {
     "duration": 0.009275,
     "end_time": "2023-07-25T02:57:22.262345",
     "exception": false,
     "start_time": "2023-07-25T02:57:22.253070",
     "status": "completed"
    },
    "tags": []
   },
   "source": [
    "If you don't know what is that information about i recommend reading this article \n",
    "https://www.fda.gov/food/new-nutrition-facts-label/how-understand-and-use-nutrition-facts-label"
   ]
  },
  {
   "cell_type": "markdown",
   "id": "41eb1b62",
   "metadata": {
    "papermill": {
     "duration": 0.009148,
     "end_time": "2023-07-25T02:57:22.281168",
     "exception": false,
     "start_time": "2023-07-25T02:57:22.272020",
     "status": "completed"
    },
    "tags": []
   },
   "source": [
    "## Exploratory Data Analysis\n"
   ]
  },
  {
   "cell_type": "markdown",
   "id": "756fb1ee",
   "metadata": {
    "papermill": {
     "duration": 0.009059,
     "end_time": "2023-07-25T02:57:22.299742",
     "exception": false,
     "start_time": "2023-07-25T02:57:22.290683",
     "status": "completed"
    },
    "tags": []
   },
   "source": [
    "#### Q1 | What is the 95% average calories each category has?"
   ]
  },
  {
   "cell_type": "markdown",
   "id": "057ed88c",
   "metadata": {
    "papermill": {
     "duration": 0.009113,
     "end_time": "2023-07-25T02:57:22.318483",
     "exception": false,
     "start_time": "2023-07-25T02:57:22.309370",
     "status": "completed"
    },
    "tags": []
   },
   "source": [
    "but first let's see tha distribution of each category"
   ]
  },
  {
   "cell_type": "code",
   "execution_count": 4,
   "id": "3bfc23cc",
   "metadata": {
    "execution": {
     "iopub.execute_input": "2023-07-25T02:57:22.341494Z",
     "iopub.status.busy": "2023-07-25T02:57:22.340640Z",
     "iopub.status.idle": "2023-07-25T02:57:22.971146Z",
     "shell.execute_reply": "2023-07-25T02:57:22.969820Z"
    },
    "papermill": {
     "duration": 0.645068,
     "end_time": "2023-07-25T02:57:22.973814",
     "exception": false,
     "start_time": "2023-07-25T02:57:22.328746",
     "status": "completed"
    },
    "tags": []
   },
   "outputs": [
    {
     "data": {
      "image/png": "[encoded data removed]",
      "text/plain": [
       "<Figure size 1500x800 with 1 Axes>"
      ]
     },
     "metadata": {},
     "output_type": "display_data"
    }
   ],
   "source": [
    "plt.figure(figsize=(15,8))\n",
    "sns.kdeplot(data  = menu , x = 'Calories' , hue = 'Category'  )\n",
    "plt.show()"
   ]
  },
  {
   "cell_type": "code",
   "execution_count": 5,
   "id": "a190e3b0",
   "metadata": {
    "execution": {
     "iopub.execute_input": "2023-07-25T02:57:23.022283Z",
     "iopub.status.busy": "2023-07-25T02:57:23.021785Z",
     "iopub.status.idle": "2023-07-25T02:57:23.034577Z",
     "shell.execute_reply": "2023-07-25T02:57:23.033002Z"
    },
    "papermill": {
     "duration": 0.028398,
     "end_time": "2023-07-25T02:57:23.037232",
     "exception": false,
     "start_time": "2023-07-25T02:57:23.008834",
     "status": "completed"
    },
    "tags": []
   },
   "outputs": [
    {
     "data": {
      "text/plain": [
       "Category                                       Chicken & Fish\n",
       "Item                             Chicken McNuggets (40 piece)\n",
       "Serving Size                                  22.8 oz (646 g)\n",
       "Calories                                                 1880\n",
       "Calories from Fat                                        1060\n",
       "Total Fat                                               118.0\n",
       "Total Fat (% Daily Value)                                 182\n",
       "Saturated Fat                                            20.0\n",
       "Saturated Fat (% Daily Value)                             101\n",
       "Trans Fat                                                 1.0\n",
       "Cholesterol                                               265\n",
       "Cholesterol (% Daily Value)                                89\n",
       "Sodium                                                   3600\n",
       "Sodium (% Daily Value)                                    150\n",
       "Carbohydrates                                             118\n",
       "Carbohydrates (% Daily Value)                              39\n",
       "Dietary Fiber                                               6\n",
       "Dietary Fiber (% Daily Value)                              24\n",
       "Sugars                                                      1\n",
       "Protein                                                    87\n",
       "Vitamin A (% Daily Value)                                   0\n",
       "Vitamin C (% Daily Value)                                  15\n",
       "Calcium (% Daily Value)                                     8\n",
       "Iron (% Daily Value)                                       25\n",
       "Name: 82, dtype: object"
      ]
     },
     "execution_count": 5,
     "metadata": {},
     "output_type": "execute_result"
    }
   ],
   "source": [
    "menu.iloc[menu[menu['Category'] == 'Chicken & Fish']['Calories'].idxmax()]"
   ]
  },
  {
   "cell_type": "markdown",
   "id": "105a96ed",
   "metadata": {
    "papermill": {
     "duration": 0.011397,
     "end_time": "2023-07-25T02:57:23.061325",
     "exception": false,
     "start_time": "2023-07-25T02:57:23.049928",
     "status": "completed"
    },
    "tags": []
   },
   "source": [
    "oh it's 40 piece of Chicken McNuggets !"
   ]
  },
  {
   "cell_type": "code",
   "execution_count": 6,
   "id": "bb2e63cf",
   "metadata": {
    "execution": {
     "iopub.execute_input": "2023-07-25T02:57:23.086233Z",
     "iopub.status.busy": "2023-07-25T02:57:23.085810Z",
     "iopub.status.idle": "2023-07-25T02:57:23.095306Z",
     "shell.execute_reply": "2023-07-25T02:57:23.094010Z"
    },
    "papermill": {
     "duration": 0.025131,
     "end_time": "2023-07-25T02:57:23.098089",
     "exception": false,
     "start_time": "2023-07-25T02:57:23.072958",
     "status": "completed"
    },
    "tags": []
   },
   "outputs": [],
   "source": [
    "def confidence_interval():\n",
    "    categories = menu['Category'].unique()\n",
    "    X_bars  , LCLs , UPCs = [] , [] , [] \n",
    "    for c in categories: \n",
    "        c_df = menu[menu['Category'] == c]['Calories']\n",
    "        X_bar , std = np.mean(c_df) , np.std(c_df)\n",
    "        LCL , UPC = max(X_bar - ( 1.96 * std) , 0) ,  X_bar + ( 1.96 * std)\n",
    "        LCLs.append(LCL)\n",
    "        UPCs.append(UPC)    \n",
    "        X_bars.append(X_bar)\n",
    "    return pd.DataFrame({'Category' : categories , 'LCL' : LCLs ,'X-bar' : X_bars ,'UCL' : UPCs} )"
   ]
  },
  {
   "cell_type": "code",
   "execution_count": 7,
   "id": "8e718d8d",
   "metadata": {
    "execution": {
     "iopub.execute_input": "2023-07-25T02:57:23.124859Z",
     "iopub.status.busy": "2023-07-25T02:57:23.124102Z",
     "iopub.status.idle": "2023-07-25T02:57:23.151988Z",
     "shell.execute_reply": "2023-07-25T02:57:23.150853Z"
    },
    "papermill": {
     "duration": 0.04455,
     "end_time": "2023-07-25T02:57:23.154984",
     "exception": false,
     "start_time": "2023-07-25T02:57:23.110434",
     "status": "completed"
    },
    "scrolled": true,
    "tags": []
   },
   "outputs": [
    {
     "data": {
      "text/html": [
       "<div>\n",
       "<style scoped>\n",
       "    .dataframe tbody tr th:only-of-type {\n",
       "        vertical-align: middle;\n",
       "    }\n",
       "\n",
       "    .dataframe tbody tr th {\n",
       "        vertical-align: top;\n",
       "    }\n",
       "\n",
       "    .dataframe thead th {\n",
       "        text-align: right;\n",
       "    }\n",
       "</style>\n",
       "<table border=\"1\" class=\"dataframe\">\n",
       "  <thead>\n",
       "    <tr style=\"text-align: right;\">\n",
       "      <th></th>\n",
       "      <th>Category</th>\n",
       "      <th>LCL</th>\n",
       "      <th>X-bar</th>\n",
       "      <th>UCL</th>\n",
       "    </tr>\n",
       "  </thead>\n",
       "  <tbody>\n",
       "    <tr>\n",
       "      <th>0</th>\n",
       "      <td>Breakfast</td>\n",
       "      <td>97.387105</td>\n",
       "      <td>526.666667</td>\n",
       "      <td>955.946229</td>\n",
       "    </tr>\n",
       "    <tr>\n",
       "      <th>1</th>\n",
       "      <td>Beef &amp; Pork</td>\n",
       "      <td>226.327810</td>\n",
       "      <td>494.000000</td>\n",
       "      <td>761.672190</td>\n",
       "    </tr>\n",
       "    <tr>\n",
       "      <th>2</th>\n",
       "      <td>Chicken &amp; Fish</td>\n",
       "      <td>0.000000</td>\n",
       "      <td>552.962963</td>\n",
       "      <td>1142.553368</td>\n",
       "    </tr>\n",
       "    <tr>\n",
       "      <th>3</th>\n",
       "      <td>Salads</td>\n",
       "      <td>41.987603</td>\n",
       "      <td>270.000000</td>\n",
       "      <td>498.012397</td>\n",
       "    </tr>\n",
       "    <tr>\n",
       "      <th>4</th>\n",
       "      <td>Snacks &amp; Sides</td>\n",
       "      <td>0.000000</td>\n",
       "      <td>245.769231</td>\n",
       "      <td>512.741481</td>\n",
       "    </tr>\n",
       "    <tr>\n",
       "      <th>5</th>\n",
       "      <td>Desserts</td>\n",
       "      <td>26.012900</td>\n",
       "      <td>222.142857</td>\n",
       "      <td>418.272814</td>\n",
       "    </tr>\n",
       "    <tr>\n",
       "      <th>6</th>\n",
       "      <td>Beverages</td>\n",
       "      <td>0.000000</td>\n",
       "      <td>113.703704</td>\n",
       "      <td>304.491069</td>\n",
       "    </tr>\n",
       "    <tr>\n",
       "      <th>7</th>\n",
       "      <td>Coffee &amp; Tea</td>\n",
       "      <td>0.000000</td>\n",
       "      <td>283.894737</td>\n",
       "      <td>591.575570</td>\n",
       "    </tr>\n",
       "    <tr>\n",
       "      <th>8</th>\n",
       "      <td>Smoothies &amp; Shakes</td>\n",
       "      <td>87.074658</td>\n",
       "      <td>531.428571</td>\n",
       "      <td>975.782484</td>\n",
       "    </tr>\n",
       "  </tbody>\n",
       "</table>\n",
       "</div>"
      ],
      "text/plain": [
       "             Category         LCL       X-bar          UCL\n",
       "0           Breakfast   97.387105  526.666667   955.946229\n",
       "1         Beef & Pork  226.327810  494.000000   761.672190\n",
       "2      Chicken & Fish    0.000000  552.962963  1142.553368\n",
       "3              Salads   41.987603  270.000000   498.012397\n",
       "4      Snacks & Sides    0.000000  245.769231   512.741481\n",
       "5            Desserts   26.012900  222.142857   418.272814\n",
       "6           Beverages    0.000000  113.703704   304.491069\n",
       "7        Coffee & Tea    0.000000  283.894737   591.575570\n",
       "8  Smoothies & Shakes   87.074658  531.428571   975.782484"
      ]
     },
     "execution_count": 7,
     "metadata": {},
     "output_type": "execute_result"
    }
   ],
   "source": [
    "confidence_interval()"
   ]
  },
  {
   "cell_type": "markdown",
   "id": "f42fc50f",
   "metadata": {
    "papermill": {
     "duration": 0.012291,
     "end_time": "2023-07-25T02:57:23.179689",
     "exception": false,
     "start_time": "2023-07-25T02:57:23.167398",
     "status": "completed"
    },
    "tags": []
   },
   "source": [
    "#### Q2 |  If you want to have a breakfast at mac what meal you should take?"
   ]
  },
  {
   "cell_type": "markdown",
   "id": "c57a9a21",
   "metadata": {
    "papermill": {
     "duration": 0.012026,
     "end_time": "2023-07-25T02:57:23.204354",
     "exception": false,
     "start_time": "2023-07-25T02:57:23.192328",
     "status": "completed"
    },
    "tags": []
   },
   "source": [
    "According to the above article there is some Nutrients to :\n",
    "   - get more of : Dietary Fiber, Vitamin , Calcium and Iron.\n",
    "   - get less of: Saturated Fat, Sodium and Cholesterol."
   ]
  },
  {
   "cell_type": "code",
   "execution_count": 8,
   "id": "be64df83",
   "metadata": {
    "execution": {
     "iopub.execute_input": "2023-07-25T02:57:23.231166Z",
     "iopub.status.busy": "2023-07-25T02:57:23.230728Z",
     "iopub.status.idle": "2023-07-25T02:57:23.243552Z",
     "shell.execute_reply": "2023-07-25T02:57:23.242350Z"
    },
    "papermill": {
     "duration": 0.02978,
     "end_time": "2023-07-25T02:57:23.246638",
     "exception": false,
     "start_time": "2023-07-25T02:57:23.216858",
     "status": "completed"
    },
    "tags": []
   },
   "outputs": [],
   "source": [
    "menu['Protein (% Daily Value)'] = menu['Protein'] / 50\n",
    "menu['goods'] = menu[['Vitamin C (% Daily Value)','Vitamin A (% Daily Value)' , 'Protein (% Daily Value)' , 'Dietary Fiber (% Daily Value)','Calcium (% Daily Value)' ,'Iron (% Daily Value)' ]].sum(axis = 1)\n",
    "menu['bads']  =  menu[['Saturated Fat (% Daily Value)','Sodium (% Daily Value)','Cholesterol (% Daily Value)']].sum( axis = 1) "
   ]
  },
  {
   "cell_type": "code",
   "execution_count": 9,
   "id": "94a0ce43",
   "metadata": {
    "execution": {
     "iopub.execute_input": "2023-07-25T02:57:23.275168Z",
     "iopub.status.busy": "2023-07-25T02:57:23.274034Z",
     "iopub.status.idle": "2023-07-25T02:57:23.303225Z",
     "shell.execute_reply": "2023-07-25T02:57:23.302033Z"
    },
    "papermill": {
     "duration": 0.046361,
     "end_time": "2023-07-25T02:57:23.305838",
     "exception": false,
     "start_time": "2023-07-25T02:57:23.259477",
     "status": "completed"
    },
    "tags": []
   },
   "outputs": [
    {
     "data": {
      "text/html": [
       "<div>\n",
       "<style scoped>\n",
       "    .dataframe tbody tr th:only-of-type {\n",
       "        vertical-align: middle;\n",
       "    }\n",
       "\n",
       "    .dataframe tbody tr th {\n",
       "        vertical-align: top;\n",
       "    }\n",
       "\n",
       "    .dataframe thead th {\n",
       "        text-align: right;\n",
       "    }\n",
       "</style>\n",
       "<table border=\"1\" class=\"dataframe\">\n",
       "  <thead>\n",
       "    <tr style=\"text-align: right;\">\n",
       "      <th></th>\n",
       "      <th>Category</th>\n",
       "      <th>Item</th>\n",
       "      <th>Serving Size</th>\n",
       "      <th>Calories</th>\n",
       "      <th>Calories from Fat</th>\n",
       "      <th>Total Fat</th>\n",
       "      <th>Total Fat (% Daily Value)</th>\n",
       "      <th>Saturated Fat</th>\n",
       "      <th>Saturated Fat (% Daily Value)</th>\n",
       "      <th>Trans Fat</th>\n",
       "      <th>...</th>\n",
       "      <th>Dietary Fiber (% Daily Value)</th>\n",
       "      <th>Sugars</th>\n",
       "      <th>Protein</th>\n",
       "      <th>Vitamin A (% Daily Value)</th>\n",
       "      <th>Vitamin C (% Daily Value)</th>\n",
       "      <th>Calcium (% Daily Value)</th>\n",
       "      <th>Iron (% Daily Value)</th>\n",
       "      <th>Protein (% Daily Value)</th>\n",
       "      <th>goods</th>\n",
       "      <th>bads</th>\n",
       "    </tr>\n",
       "  </thead>\n",
       "  <tbody>\n",
       "    <tr>\n",
       "      <th>0</th>\n",
       "      <td>Breakfast</td>\n",
       "      <td>Egg McMuffin</td>\n",
       "      <td>4.8 oz (136 g)</td>\n",
       "      <td>300</td>\n",
       "      <td>120</td>\n",
       "      <td>13.0</td>\n",
       "      <td>20</td>\n",
       "      <td>5.0</td>\n",
       "      <td>25</td>\n",
       "      <td>0.0</td>\n",
       "      <td>...</td>\n",
       "      <td>17</td>\n",
       "      <td>3</td>\n",
       "      <td>17</td>\n",
       "      <td>10</td>\n",
       "      <td>0</td>\n",
       "      <td>25</td>\n",
       "      <td>15</td>\n",
       "      <td>0.34</td>\n",
       "      <td>67.34</td>\n",
       "      <td>143</td>\n",
       "    </tr>\n",
       "    <tr>\n",
       "      <th>1</th>\n",
       "      <td>Breakfast</td>\n",
       "      <td>Egg White Delight</td>\n",
       "      <td>4.8 oz (135 g)</td>\n",
       "      <td>250</td>\n",
       "      <td>70</td>\n",
       "      <td>8.0</td>\n",
       "      <td>12</td>\n",
       "      <td>3.0</td>\n",
       "      <td>15</td>\n",
       "      <td>0.0</td>\n",
       "      <td>...</td>\n",
       "      <td>17</td>\n",
       "      <td>3</td>\n",
       "      <td>18</td>\n",
       "      <td>6</td>\n",
       "      <td>0</td>\n",
       "      <td>25</td>\n",
       "      <td>8</td>\n",
       "      <td>0.36</td>\n",
       "      <td>56.36</td>\n",
       "      <td>55</td>\n",
       "    </tr>\n",
       "    <tr>\n",
       "      <th>2</th>\n",
       "      <td>Breakfast</td>\n",
       "      <td>Sausage McMuffin</td>\n",
       "      <td>3.9 oz (111 g)</td>\n",
       "      <td>370</td>\n",
       "      <td>200</td>\n",
       "      <td>23.0</td>\n",
       "      <td>35</td>\n",
       "      <td>8.0</td>\n",
       "      <td>42</td>\n",
       "      <td>0.0</td>\n",
       "      <td>...</td>\n",
       "      <td>17</td>\n",
       "      <td>2</td>\n",
       "      <td>14</td>\n",
       "      <td>8</td>\n",
       "      <td>0</td>\n",
       "      <td>25</td>\n",
       "      <td>10</td>\n",
       "      <td>0.28</td>\n",
       "      <td>60.28</td>\n",
       "      <td>90</td>\n",
       "    </tr>\n",
       "    <tr>\n",
       "      <th>3</th>\n",
       "      <td>Breakfast</td>\n",
       "      <td>Sausage McMuffin with Egg</td>\n",
       "      <td>5.7 oz (161 g)</td>\n",
       "      <td>450</td>\n",
       "      <td>250</td>\n",
       "      <td>28.0</td>\n",
       "      <td>43</td>\n",
       "      <td>10.0</td>\n",
       "      <td>52</td>\n",
       "      <td>0.0</td>\n",
       "      <td>...</td>\n",
       "      <td>17</td>\n",
       "      <td>2</td>\n",
       "      <td>21</td>\n",
       "      <td>15</td>\n",
       "      <td>0</td>\n",
       "      <td>30</td>\n",
       "      <td>15</td>\n",
       "      <td>0.42</td>\n",
       "      <td>77.42</td>\n",
       "      <td>183</td>\n",
       "    </tr>\n",
       "    <tr>\n",
       "      <th>4</th>\n",
       "      <td>Breakfast</td>\n",
       "      <td>Sausage McMuffin with Egg Whites</td>\n",
       "      <td>5.7 oz (161 g)</td>\n",
       "      <td>400</td>\n",
       "      <td>210</td>\n",
       "      <td>23.0</td>\n",
       "      <td>35</td>\n",
       "      <td>8.0</td>\n",
       "      <td>42</td>\n",
       "      <td>0.0</td>\n",
       "      <td>...</td>\n",
       "      <td>17</td>\n",
       "      <td>2</td>\n",
       "      <td>21</td>\n",
       "      <td>6</td>\n",
       "      <td>0</td>\n",
       "      <td>25</td>\n",
       "      <td>10</td>\n",
       "      <td>0.42</td>\n",
       "      <td>58.42</td>\n",
       "      <td>95</td>\n",
       "    </tr>\n",
       "  </tbody>\n",
       "</table>\n",
       "<p>5 rows × 27 columns</p>\n",
       "</div>"
      ],
      "text/plain": [
       "    Category                              Item    Serving Size  Calories  \\\n",
       "0  Breakfast                      Egg McMuffin  4.8 oz (136 g)       300   \n",
       "1  Breakfast                 Egg White Delight  4.8 oz (135 g)       250   \n",
       "2  Breakfast                  Sausage McMuffin  3.9 oz (111 g)       370   \n",
       "3  Breakfast         Sausage McMuffin with Egg  5.7 oz (161 g)       450   \n",
       "4  Breakfast  Sausage McMuffin with Egg Whites  5.7 oz (161 g)       400   \n",
       "\n",
       "   Calories from Fat  Total Fat  Total Fat (% Daily Value)  Saturated Fat  \\\n",
       "0                120       13.0                         20            5.0   \n",
       "1                 70        8.0                         12            3.0   \n",
       "2                200       23.0                         35            8.0   \n",
       "3                250       28.0                         43           10.0   \n",
       "4                210       23.0                         35            8.0   \n",
       "\n",
       "   Saturated Fat (% Daily Value)  Trans Fat  ...  \\\n",
       "0                             25        0.0  ...   \n",
       "1                             15        0.0  ...   \n",
       "2                             42        0.0  ...   \n",
       "3                             52        0.0  ...   \n",
       "4                             42        0.0  ...   \n",
       "\n",
       "   Dietary Fiber (% Daily Value)  Sugars  Protein  Vitamin A (% Daily Value)  \\\n",
       "0                             17       3       17                         10   \n",
       "1                             17       3       18                          6   \n",
       "2                             17       2       14                          8   \n",
       "3                             17       2       21                         15   \n",
       "4                             17       2       21                          6   \n",
       "\n",
       "   Vitamin C (% Daily Value)  Calcium (% Daily Value)  Iron (% Daily Value)  \\\n",
       "0                          0                       25                    15   \n",
       "1                          0                       25                     8   \n",
       "2                          0                       25                    10   \n",
       "3                          0                       30                    15   \n",
       "4                          0                       25                    10   \n",
       "\n",
       "   Protein (% Daily Value)  goods  bads  \n",
       "0                     0.34  67.34   143  \n",
       "1                     0.36  56.36    55  \n",
       "2                     0.28  60.28    90  \n",
       "3                     0.42  77.42   183  \n",
       "4                     0.42  58.42    95  \n",
       "\n",
       "[5 rows x 27 columns]"
      ]
     },
     "execution_count": 9,
     "metadata": {},
     "output_type": "execute_result"
    }
   ],
   "source": [
    "bf_menu = menu[menu['Category'] == 'Breakfast'].copy()\n",
    "bf_menu.head()"
   ]
  },
  {
   "cell_type": "code",
   "execution_count": 10,
   "id": "afcd5232",
   "metadata": {
    "execution": {
     "iopub.execute_input": "2023-07-25T02:57:23.334441Z",
     "iopub.status.busy": "2023-07-25T02:57:23.334021Z",
     "iopub.status.idle": "2023-07-25T02:57:23.352589Z",
     "shell.execute_reply": "2023-07-25T02:57:23.351107Z"
    },
    "papermill": {
     "duration": 0.036221,
     "end_time": "2023-07-25T02:57:23.355396",
     "exception": false,
     "start_time": "2023-07-25T02:57:23.319175",
     "status": "completed"
    },
    "tags": []
   },
   "outputs": [
    {
     "data": {
      "text/html": [
       "<div>\n",
       "<style scoped>\n",
       "    .dataframe tbody tr th:only-of-type {\n",
       "        vertical-align: middle;\n",
       "    }\n",
       "\n",
       "    .dataframe tbody tr th {\n",
       "        vertical-align: top;\n",
       "    }\n",
       "\n",
       "    .dataframe thead th {\n",
       "        text-align: right;\n",
       "    }\n",
       "</style>\n",
       "<table border=\"1\" class=\"dataframe\">\n",
       "  <thead>\n",
       "    <tr style=\"text-align: right;\">\n",
       "      <th></th>\n",
       "      <th>Good Breakfast</th>\n",
       "    </tr>\n",
       "  </thead>\n",
       "  <tbody>\n",
       "    <tr>\n",
       "      <th>40</th>\n",
       "      <td>Fruit &amp; Maple Oatmeal</td>\n",
       "    </tr>\n",
       "    <tr>\n",
       "      <th>41</th>\n",
       "      <td>Fruit &amp; Maple Oatmeal without Brown Sugar</td>\n",
       "    </tr>\n",
       "    <tr>\n",
       "      <th>32</th>\n",
       "      <td>Big Breakfast with Hotcakes (Large Biscuit)</td>\n",
       "    </tr>\n",
       "    <tr>\n",
       "      <th>31</th>\n",
       "      <td>Big Breakfast with Hotcakes (Regular Biscuit)</td>\n",
       "    </tr>\n",
       "    <tr>\n",
       "      <th>34</th>\n",
       "      <td>Big Breakfast with Hotcakes and Egg Whites (La...</td>\n",
       "    </tr>\n",
       "  </tbody>\n",
       "</table>\n",
       "</div>"
      ],
      "text/plain": [
       "                                       Good Breakfast\n",
       "40                              Fruit & Maple Oatmeal\n",
       "41          Fruit & Maple Oatmeal without Brown Sugar\n",
       "32        Big Breakfast with Hotcakes (Large Biscuit)\n",
       "31      Big Breakfast with Hotcakes (Regular Biscuit)\n",
       "34  Big Breakfast with Hotcakes and Egg Whites (La..."
      ]
     },
     "execution_count": 10,
     "metadata": {},
     "output_type": "execute_result"
    }
   ],
   "source": [
    "pd.DataFrame({'Good Breakfast' : bf_menu.sort_values(['goods' , 'bads'] , ascending=[False , True])['Item'][:5]})"
   ]
  },
  {
   "cell_type": "markdown",
   "id": "558de647",
   "metadata": {
    "papermill": {
     "duration": 0.0128,
     "end_time": "2023-07-25T02:57:23.381629",
     "exception": false,
     "start_time": "2023-07-25T02:57:23.368829",
     "status": "completed"
    },
    "tags": []
   },
   "source": [
    "#### Q3 |  What about ordering egg whites instead of whole eggs? \n"
   ]
  },
  {
   "cell_type": "code",
   "execution_count": 12,
   "id": "b9f944a1",
   "metadata": {
    "execution": {
     "iopub.execute_input": "2023-07-25T02:57:23.410663Z",
     "iopub.status.busy": "2023-07-25T02:57:23.409738Z",
     "iopub.status.idle": "2023-07-25T02:57:23.423771Z",
     "shell.execute_reply": "2023-07-25T02:57:23.422949Z"
    },
    "papermill": {
     "duration": 0.031398,
     "end_time": "2023-07-25T02:57:23.426192",
     "exception": false,
     "start_time": "2023-07-25T02:57:23.394794",
     "status": "completed"
    },
    "tags": []
   },
   "outputs": [
    {
     "data": {
      "text/html": [
       "<div>\n",
       "<style scoped>\n",
       "    .dataframe tbody tr th:only-of-type {\n",
       "        vertical-align: middle;\n",
       "    }\n",
       "\n",
       "    .dataframe tbody tr th {\n",
       "        vertical-align: top;\n",
       "    }\n",
       "\n",
       "    .dataframe thead th {\n",
       "        text-align: right;\n",
       "    }\n",
       "</style>\n",
       "<table border=\"1\" class=\"dataframe\">\n",
       "  <thead>\n",
       "    <tr style=\"text-align: right;\">\n",
       "      <th></th>\n",
       "      <th>Item</th>\n",
       "      <th>goods</th>\n",
       "      <th>bads</th>\n",
       "    </tr>\n",
       "  </thead>\n",
       "  <tbody>\n",
       "    <tr>\n",
       "      <th>0</th>\n",
       "      <td>Egg McMuffin</td>\n",
       "      <td>67.34</td>\n",
       "      <td>143</td>\n",
       "    </tr>\n",
       "    <tr>\n",
       "      <th>1</th>\n",
       "      <td>Egg White Delight</td>\n",
       "      <td>56.36</td>\n",
       "      <td>55</td>\n",
       "    </tr>\n",
       "  </tbody>\n",
       "</table>\n",
       "</div>"
      ],
      "text/plain": [
       "                Item  goods  bads\n",
       "0       Egg McMuffin  67.34   143\n",
       "1  Egg White Delight  56.36    55"
      ]
     },
     "execution_count": 12,
     "metadata": {},
     "output_type": "execute_result"
    }
   ],
   "source": [
    "bf_menu[(bf_menu['Item'] == 'Egg McMuffin') | (bf_menu['Item'] == 'Egg White Delight') ][['Item','goods' ,'bads']]"
   ]
  },
  {
   "cell_type": "markdown",
   "id": "7254bde7",
   "metadata": {
    "papermill": {
     "duration": 0.014562,
     "end_time": "2023-07-25T02:57:23.454430",
     "exception": false,
     "start_time": "2023-07-25T02:57:23.439868",
     "status": "completed"
    },
    "tags": []
   },
   "source": [
    "as goods are slightly higher in the whole egg but bads are way higher, so we would choose the safer which is egg whites."
   ]
  },
  {
   "cell_type": "markdown",
   "id": "1a5fe536",
   "metadata": {
    "papermill": {
     "duration": 0.013599,
     "end_time": "2023-07-25T02:57:23.481837",
     "exception": false,
     "start_time": "2023-07-25T02:57:23.468238",
     "status": "completed"
    },
    "tags": []
   },
   "source": [
    "#### Q4 |  As a fitness guy we really care about protein , Where is protein  in MAC ?\n"
   ]
  },
  {
   "cell_type": "code",
   "execution_count": 13,
   "id": "2151efcb",
   "metadata": {
    "execution": {
     "iopub.execute_input": "2023-07-25T02:57:23.511611Z",
     "iopub.status.busy": "2023-07-25T02:57:23.511233Z",
     "iopub.status.idle": "2023-07-25T02:57:24.245474Z",
     "shell.execute_reply": "2023-07-25T02:57:24.243318Z"
    },
    "papermill": {
     "duration": 0.753908,
     "end_time": "2023-07-25T02:57:24.249690",
     "exception": false,
     "start_time": "2023-07-25T02:57:23.495782",
     "status": "completed"
    },
    "tags": []
   },
   "outputs": [
    {
     "data": {
      "image/png": "[encoded data removed]",
      "text/plain": [
       "<Figure size 1500x800 with 1 Axes>"
      ]
     },
     "metadata": {},
     "output_type": "display_data"
    }
   ],
   "source": [
    "plt.figure(figsize=(15,8))\n",
    "sns.barplot(data  = menu , x = 'Category' , y =  'Protein'  )\n",
    "plt.show()"
   ]
  },
  {
   "cell_type": "code",
   "execution_count": 14,
   "id": "c5f5a9b9",
   "metadata": {
    "execution": {
     "iopub.execute_input": "2023-07-25T02:57:24.336016Z",
     "iopub.status.busy": "2023-07-25T02:57:24.335544Z",
     "iopub.status.idle": "2023-07-25T02:57:24.366510Z",
     "shell.execute_reply": "2023-07-25T02:57:24.365679Z"
    },
    "papermill": {
     "duration": 0.04968,
     "end_time": "2023-07-25T02:57:24.369142",
     "exception": false,
     "start_time": "2023-07-25T02:57:24.319462",
     "status": "completed"
    },
    "tags": []
   },
   "outputs": [
    {
     "data": {
      "text/html": [
       "<div>\n",
       "<style scoped>\n",
       "    .dataframe tbody tr th:only-of-type {\n",
       "        vertical-align: middle;\n",
       "    }\n",
       "\n",
       "    .dataframe tbody tr th {\n",
       "        vertical-align: top;\n",
       "    }\n",
       "\n",
       "    .dataframe thead th {\n",
       "        text-align: right;\n",
       "    }\n",
       "</style>\n",
       "<table border=\"1\" class=\"dataframe\">\n",
       "  <thead>\n",
       "    <tr style=\"text-align: right;\">\n",
       "      <th></th>\n",
       "      <th>Category</th>\n",
       "      <th>Item</th>\n",
       "      <th>Serving Size</th>\n",
       "      <th>Calories</th>\n",
       "      <th>Calories from Fat</th>\n",
       "      <th>Total Fat</th>\n",
       "      <th>Total Fat (% Daily Value)</th>\n",
       "      <th>Saturated Fat</th>\n",
       "      <th>Saturated Fat (% Daily Value)</th>\n",
       "      <th>Trans Fat</th>\n",
       "      <th>...</th>\n",
       "      <th>Dietary Fiber (% Daily Value)</th>\n",
       "      <th>Sugars</th>\n",
       "      <th>Protein</th>\n",
       "      <th>Vitamin A (% Daily Value)</th>\n",
       "      <th>Vitamin C (% Daily Value)</th>\n",
       "      <th>Calcium (% Daily Value)</th>\n",
       "      <th>Iron (% Daily Value)</th>\n",
       "      <th>Protein (% Daily Value)</th>\n",
       "      <th>goods</th>\n",
       "      <th>bads</th>\n",
       "    </tr>\n",
       "  </thead>\n",
       "  <tbody>\n",
       "    <tr>\n",
       "      <th>42</th>\n",
       "      <td>Beef &amp; Pork</td>\n",
       "      <td>Big Mac</td>\n",
       "      <td>7.4 oz (211 g)</td>\n",
       "      <td>530</td>\n",
       "      <td>240</td>\n",
       "      <td>27.0</td>\n",
       "      <td>42</td>\n",
       "      <td>10.0</td>\n",
       "      <td>48</td>\n",
       "      <td>1.0</td>\n",
       "      <td>...</td>\n",
       "      <td>13</td>\n",
       "      <td>9</td>\n",
       "      <td>24</td>\n",
       "      <td>6</td>\n",
       "      <td>2</td>\n",
       "      <td>25</td>\n",
       "      <td>25</td>\n",
       "      <td>0.48</td>\n",
       "      <td>71.48</td>\n",
       "      <td>116</td>\n",
       "    </tr>\n",
       "    <tr>\n",
       "      <th>43</th>\n",
       "      <td>Beef &amp; Pork</td>\n",
       "      <td>Quarter Pounder with Cheese</td>\n",
       "      <td>7.1 oz (202 g)</td>\n",
       "      <td>520</td>\n",
       "      <td>240</td>\n",
       "      <td>26.0</td>\n",
       "      <td>41</td>\n",
       "      <td>12.0</td>\n",
       "      <td>61</td>\n",
       "      <td>1.5</td>\n",
       "      <td>...</td>\n",
       "      <td>11</td>\n",
       "      <td>10</td>\n",
       "      <td>30</td>\n",
       "      <td>10</td>\n",
       "      <td>2</td>\n",
       "      <td>30</td>\n",
       "      <td>25</td>\n",
       "      <td>0.60</td>\n",
       "      <td>78.60</td>\n",
       "      <td>138</td>\n",
       "    </tr>\n",
       "    <tr>\n",
       "      <th>44</th>\n",
       "      <td>Beef &amp; Pork</td>\n",
       "      <td>Quarter Pounder with Bacon &amp; Cheese</td>\n",
       "      <td>8 oz (227 g)</td>\n",
       "      <td>600</td>\n",
       "      <td>260</td>\n",
       "      <td>29.0</td>\n",
       "      <td>45</td>\n",
       "      <td>13.0</td>\n",
       "      <td>63</td>\n",
       "      <td>1.5</td>\n",
       "      <td>...</td>\n",
       "      <td>12</td>\n",
       "      <td>12</td>\n",
       "      <td>37</td>\n",
       "      <td>6</td>\n",
       "      <td>15</td>\n",
       "      <td>25</td>\n",
       "      <td>30</td>\n",
       "      <td>0.74</td>\n",
       "      <td>88.74</td>\n",
       "      <td>157</td>\n",
       "    </tr>\n",
       "    <tr>\n",
       "      <th>45</th>\n",
       "      <td>Beef &amp; Pork</td>\n",
       "      <td>Quarter Pounder with Bacon Habanero Ranch</td>\n",
       "      <td>8.3 oz (235 g)</td>\n",
       "      <td>610</td>\n",
       "      <td>280</td>\n",
       "      <td>31.0</td>\n",
       "      <td>48</td>\n",
       "      <td>13.0</td>\n",
       "      <td>64</td>\n",
       "      <td>1.5</td>\n",
       "      <td>...</td>\n",
       "      <td>14</td>\n",
       "      <td>10</td>\n",
       "      <td>37</td>\n",
       "      <td>8</td>\n",
       "      <td>20</td>\n",
       "      <td>25</td>\n",
       "      <td>30</td>\n",
       "      <td>0.74</td>\n",
       "      <td>97.74</td>\n",
       "      <td>148</td>\n",
       "    </tr>\n",
       "    <tr>\n",
       "      <th>46</th>\n",
       "      <td>Beef &amp; Pork</td>\n",
       "      <td>Quarter Pounder Deluxe</td>\n",
       "      <td>8.6 oz (244 g)</td>\n",
       "      <td>540</td>\n",
       "      <td>250</td>\n",
       "      <td>27.0</td>\n",
       "      <td>42</td>\n",
       "      <td>11.0</td>\n",
       "      <td>54</td>\n",
       "      <td>1.5</td>\n",
       "      <td>...</td>\n",
       "      <td>13</td>\n",
       "      <td>9</td>\n",
       "      <td>29</td>\n",
       "      <td>10</td>\n",
       "      <td>8</td>\n",
       "      <td>25</td>\n",
       "      <td>30</td>\n",
       "      <td>0.58</td>\n",
       "      <td>86.58</td>\n",
       "      <td>122</td>\n",
       "    </tr>\n",
       "  </tbody>\n",
       "</table>\n",
       "<p>5 rows × 27 columns</p>\n",
       "</div>"
      ],
      "text/plain": [
       "       Category                                       Item    Serving Size  \\\n",
       "42  Beef & Pork                                    Big Mac  7.4 oz (211 g)   \n",
       "43  Beef & Pork                Quarter Pounder with Cheese  7.1 oz (202 g)   \n",
       "44  Beef & Pork        Quarter Pounder with Bacon & Cheese    8 oz (227 g)   \n",
       "45  Beef & Pork  Quarter Pounder with Bacon Habanero Ranch  8.3 oz (235 g)   \n",
       "46  Beef & Pork                     Quarter Pounder Deluxe  8.6 oz (244 g)   \n",
       "\n",
       "    Calories  Calories from Fat  Total Fat  Total Fat (% Daily Value)  \\\n",
       "42       530                240       27.0                         42   \n",
       "43       520                240       26.0                         41   \n",
       "44       600                260       29.0                         45   \n",
       "45       610                280       31.0                         48   \n",
       "46       540                250       27.0                         42   \n",
       "\n",
       "    Saturated Fat  Saturated Fat (% Daily Value)  Trans Fat  ...  \\\n",
       "42           10.0                             48        1.0  ...   \n",
       "43           12.0                             61        1.5  ...   \n",
       "44           13.0                             63        1.5  ...   \n",
       "45           13.0                             64        1.5  ...   \n",
       "46           11.0                             54        1.5  ...   \n",
       "\n",
       "    Dietary Fiber (% Daily Value)  Sugars  Protein  Vitamin A (% Daily Value)  \\\n",
       "42                             13       9       24                          6   \n",
       "43                             11      10       30                         10   \n",
       "44                             12      12       37                          6   \n",
       "45                             14      10       37                          8   \n",
       "46                             13       9       29                         10   \n",
       "\n",
       "    Vitamin C (% Daily Value)  Calcium (% Daily Value)  Iron (% Daily Value)  \\\n",
       "42                          2                       25                    25   \n",
       "43                          2                       30                    25   \n",
       "44                         15                       25                    30   \n",
       "45                         20                       25                    30   \n",
       "46                          8                       25                    30   \n",
       "\n",
       "    Protein (% Daily Value)  goods  bads  \n",
       "42                     0.48  71.48   116  \n",
       "43                     0.60  78.60   138  \n",
       "44                     0.74  88.74   157  \n",
       "45                     0.74  97.74   148  \n",
       "46                     0.58  86.58   122  \n",
       "\n",
       "[5 rows x 27 columns]"
      ]
     },
     "execution_count": 14,
     "metadata": {},
     "output_type": "execute_result"
    }
   ],
   "source": [
    "cp_menu = menu[(menu['Category'] == 'Beef & Pork') | (menu['Category'] == 'Chicken & Fish' ) ].copy()\n",
    "cp_menu.head()"
   ]
  },
  {
   "cell_type": "code",
   "execution_count": 15,
   "id": "9239cb44",
   "metadata": {
    "execution": {
     "iopub.execute_input": "2023-07-25T02:57:24.401900Z",
     "iopub.status.busy": "2023-07-25T02:57:24.400820Z",
     "iopub.status.idle": "2023-07-25T02:57:25.232390Z",
     "shell.execute_reply": "2023-07-25T02:57:25.230629Z"
    },
    "papermill": {
     "duration": 0.851651,
     "end_time": "2023-07-25T02:57:25.235871",
     "exception": false,
     "start_time": "2023-07-25T02:57:24.384220",
     "status": "completed"
    },
    "tags": []
   },
   "outputs": [
    {
     "data": {
      "image/png": "[encoded data removed]",
      "text/plain": [
       "<Figure size 1500x700 with 2 Axes>"
      ]
     },
     "metadata": {},
     "output_type": "display_data"
    }
   ],
   "source": [
    "fig , ax = plt.subplots(ncols=2 ,figsize=(15,7) )\n",
    "sns.kdeplot(data = cp_menu , x = 'goods' , hue = 'Category'  , ax = ax[0])\n",
    "sns.kdeplot(data = cp_menu , x = 'bads' , hue = 'Category' ,  ax = ax[1])\n",
    "ax[0].axvline(x=71)\n",
    "ax[0].axvline(x=77.2 ,color = 'darkorange' )\n",
    "\n",
    "ax[1].axvline(x=123.4 )\n",
    "ax[1].axvline(x=108.6,color = 'darkorange' )\n",
    "\n",
    "plt.show()"
   ]
  },
  {
   "cell_type": "markdown",
   "id": "eb15e4bf",
   "metadata": {
    "papermill": {
     "duration": 0.016861,
     "end_time": "2023-07-25T02:57:25.269679",
     "exception": false,
     "start_time": "2023-07-25T02:57:25.252818",
     "status": "completed"
    },
    "tags": []
   },
   "source": [
    "so as we are comparing value with one unit which is  $  percenatge Daily Value  $ , so we can subtract goods from bads for each category and the one with have more goods than bads is probably the best"
   ]
  },
  {
   "cell_type": "code",
   "execution_count": 16,
   "id": "89c7caef",
   "metadata": {
    "execution": {
     "iopub.execute_input": "2023-07-25T02:57:25.305877Z",
     "iopub.status.busy": "2023-07-25T02:57:25.305426Z",
     "iopub.status.idle": "2023-07-25T02:57:25.318416Z",
     "shell.execute_reply": "2023-07-25T02:57:25.317027Z"
    },
    "papermill": {
     "duration": 0.033746,
     "end_time": "2023-07-25T02:57:25.320863",
     "exception": false,
     "start_time": "2023-07-25T02:57:25.287117",
     "status": "completed"
    },
    "tags": []
   },
   "outputs": [
    {
     "data": {
      "text/plain": [
       "goods     71.013333\n",
       "bads     123.400000\n",
       "dtype: float64"
      ]
     },
     "execution_count": 16,
     "metadata": {},
     "output_type": "execute_result"
    }
   ],
   "source": [
    "cp_menu[cp_menu['Category'] == 'Beef & Pork'][['goods' , 'bads']].mean()"
   ]
  },
  {
   "cell_type": "code",
   "execution_count": 17,
   "id": "c4ba76e2",
   "metadata": {
    "execution": {
     "iopub.execute_input": "2023-07-25T02:57:25.357487Z",
     "iopub.status.busy": "2023-07-25T02:57:25.357026Z",
     "iopub.status.idle": "2023-07-25T02:57:25.365405Z",
     "shell.execute_reply": "2023-07-25T02:57:25.363893Z"
    },
    "papermill": {
     "duration": 0.029641,
     "end_time": "2023-07-25T02:57:25.368163",
     "exception": false,
     "start_time": "2023-07-25T02:57:25.338522",
     "status": "completed"
    },
    "tags": []
   },
   "outputs": [
    {
     "data": {
      "text/plain": [
       "-52.30000000000001"
      ]
     },
     "execution_count": 17,
     "metadata": {},
     "output_type": "execute_result"
    }
   ],
   "source": [
    "71.10 - 123.4"
   ]
  },
  {
   "cell_type": "code",
   "execution_count": 18,
   "id": "a90d431d",
   "metadata": {
    "execution": {
     "iopub.execute_input": "2023-07-25T02:57:25.404538Z",
     "iopub.status.busy": "2023-07-25T02:57:25.404070Z",
     "iopub.status.idle": "2023-07-25T02:57:25.417588Z",
     "shell.execute_reply": "2023-07-25T02:57:25.416283Z"
    },
    "papermill": {
     "duration": 0.034936,
     "end_time": "2023-07-25T02:57:25.420150",
     "exception": false,
     "start_time": "2023-07-25T02:57:25.385214",
     "status": "completed"
    },
    "tags": []
   },
   "outputs": [
    {
     "data": {
      "text/plain": [
       "goods     77.285926\n",
       "bads     108.666667\n",
       "dtype: float64"
      ]
     },
     "execution_count": 18,
     "metadata": {},
     "output_type": "execute_result"
    }
   ],
   "source": [
    "cp_menu[cp_menu['Category'] == 'Chicken & Fish'][['goods' , 'bads']].mean()"
   ]
  },
  {
   "cell_type": "code",
   "execution_count": 19,
   "id": "94d77918",
   "metadata": {
    "execution": {
     "iopub.execute_input": "2023-07-25T02:57:25.456477Z",
     "iopub.status.busy": "2023-07-25T02:57:25.456023Z",
     "iopub.status.idle": "2023-07-25T02:57:25.463511Z",
     "shell.execute_reply": "2023-07-25T02:57:25.462206Z"
    },
    "papermill": {
     "duration": 0.02863,
     "end_time": "2023-07-25T02:57:25.465832",
     "exception": false,
     "start_time": "2023-07-25T02:57:25.437202",
     "status": "completed"
    },
    "tags": []
   },
   "outputs": [
    {
     "data": {
      "text/plain": [
       "-31.39999999999999"
      ]
     },
     "execution_count": 19,
     "metadata": {},
     "output_type": "execute_result"
    }
   ],
   "source": [
    "77.2 - 108.6"
   ]
  }
 ],
 "metadata": {
  "kernelspec": {
   "display_name": "Python 3",
   "language": "python",
   "name": "python3"
  },
  "language_info": {
   "codemirror_mode": {
    "name": "ipython",
    "version": 3
   },
   "file_extension": ".py",
   "mimetype": "text/x-python",
   "name": "python",
   "nbconvert_exporter": "python",
   "pygments_lexer": "ipython3",
   "version": "3.12.1"
  },
  "papermill": {
   "default_parameters": {},
   "duration": 22.105084,
   "end_time": "2023-07-25T02:57:29.486151",
   "environment_variables": {},
   "exception": null,
   "input_path": "__notebook__.ipynb",
   "output_path": "__notebook__.ipynb",
   "parameters": {},
   "start_time": "2023-07-25T02:57:07.381067",
   "version": "2.4.0"
  }
 },
 "nbformat": 4,
 "nbformat_minor": 5
}
